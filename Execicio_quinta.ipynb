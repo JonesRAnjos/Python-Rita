{
  "nbformat": 4,
  "nbformat_minor": 0,
  "metadata": {
    "colab": {
      "provenance": [],
      "authorship_tag": "ABX9TyOOvDrm6Pa+8RBZxi29/Urr",
      "include_colab_link": true
    },
    "kernelspec": {
      "name": "python3",
      "display_name": "Python 3"
    },
    "language_info": {
      "name": "python"
    }
  },
  "cells": [
    {
      "cell_type": "markdown",
      "metadata": {
        "id": "view-in-github",
        "colab_type": "text"
      },
      "source": [
        "<a href=\"https://colab.research.google.com/github/JonesRAnjos/Python-Rita/blob/main/Execicio_quinta.ipynb\" target=\"_parent\"><img src=\"https://colab.research.google.com/assets/colab-badge.svg\" alt=\"Open In Colab\"/></a>"
      ]
    },
    {
      "cell_type": "markdown",
      "source": [],
      "metadata": {
        "id": "UEjYmTv5YNnL"
      }
    },
    {
      "cell_type": "code",
      "source": [
        "EXERCICIO DE QUINTA!"
      ],
      "metadata": {
        "id": "2K-8Y9OQYQts"
      },
      "execution_count": null,
      "outputs": []
    },
    {
      "cell_type": "markdown",
      "source": [
        "Refaça as funções de busca sequencial e busca binária\n",
        "assumindo que a lista possui chaves que podem ocorrer múltiplas vezes na\n",
        "lista. Neste caso, você deve retornar uma lista com todas as posições onde\n",
        "a chave foi encontrada. Se a chave não for encontrada na lista, retornar\n",
        "uma lista vazia.\n",
        "\n"
      ],
      "metadata": {
        "id": "ctpOzdWMYVTU"
      }
    },
    {
      "cell_type": "code",
      "execution_count": null,
      "metadata": {
        "id": "LqOBxRsGYMd0"
      },
      "outputs": [],
      "source": []
    },
    {
      "cell_type": "code",
      "source": [
        "def busca_binaria(lista, chave):\n",
        "    posicoes = []  # Lista para armazenar as posições encontradas\n",
        "    esquerda = 0\n",
        "    direita = len(lista) - 1\n",
        "\n",
        "\n",
        "    while esquerda <= direita:\n",
        "        meio = (esquerda + direita) // 2\n",
        "        if lista[meio] == chave:\n",
        "\n",
        "            i = meio\n",
        "            while i >= 0 and lista[i] == chave:\n",
        "                posicoes.append(i)\n",
        "                i -= 1\n",
        "\n",
        "            i = meio + 1\n",
        "            while i < len(lista) and lista[i] == chave:\n",
        "                posicoes.append(i)\n",
        "                i += 1\n",
        "            break\n",
        "        elif lista[meio] < chave:\n",
        "            esquerda = meio + 1\n",
        "        else:\n",
        "            direita = meio - 1\n",
        "\n",
        "    return sorted(posicoes)\n",
        "\n"
      ],
      "metadata": {
        "id": "IPYP5SzNYcuZ"
      },
      "execution_count": 2,
      "outputs": []
    },
    {
      "cell_type": "code",
      "source": [
        "lista = [1, 2, 3, 3, 3, 4, 5, 6]\n",
        "chave = 3\n",
        "\n",
        "print(\"Busca Binária:\", busca_binaria(lista, chave))\n"
      ],
      "metadata": {
        "colab": {
          "base_uri": "https://localhost:8080/"
        },
        "id": "tkcmkYF9Y_a6",
        "outputId": "5a1b5596-2b84-40b0-da55-9a85c55c55a9"
      },
      "execution_count": 3,
      "outputs": [
        {
          "output_type": "stream",
          "name": "stdout",
          "text": [
            "Busca Binária: [2, 3, 4]\n"
          ]
        }
      ]
    },
    {
      "cell_type": "code",
      "source": [],
      "metadata": {
        "id": "PMxpl5YkZoSY"
      },
      "execution_count": null,
      "outputs": []
    },
    {
      "cell_type": "code",
      "source": [],
      "metadata": {
        "id": "cS1liNkvZvvR"
      },
      "execution_count": null,
      "outputs": []
    }
  ]
}