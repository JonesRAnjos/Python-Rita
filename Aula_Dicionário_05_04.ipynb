{
  "nbformat": 4,
  "nbformat_minor": 0,
  "metadata": {
    "colab": {
      "provenance": [],
      "authorship_tag": "ABX9TyPLhviG1UAi7gseSx2DAQyl",
      "include_colab_link": true
    },
    "kernelspec": {
      "name": "python3",
      "display_name": "Python 3"
    },
    "language_info": {
      "name": "python"
    }
  },
  "cells": [
    {
      "cell_type": "markdown",
      "metadata": {
        "id": "view-in-github",
        "colab_type": "text"
      },
      "source": [
        "<a href=\"https://colab.research.google.com/github/JonesRAnjos/Python-Rita/blob/main/Aula_Dicion%C3%A1rio_05_04.ipynb\" target=\"_parent\"><img src=\"https://colab.research.google.com/assets/colab-badge.svg\" alt=\"Open In Colab\"/></a>"
      ]
    },
    {
      "cell_type": "code",
      "execution_count": null,
      "metadata": {
        "id": "_nO4eC1yURxS"
      },
      "outputs": [],
      "source": []
    },
    {
      "cell_type": "markdown",
      "source": [
        "DICIONARIO - são estruturas que armazenam sempre um par de dados chamados por chave e valor. Para criarmos um dicionario usamos as chaves {}\n"
      ],
      "metadata": {
        "id": "xWaEU1YkbB4u"
      }
    },
    {
      "cell_type": "code",
      "source": [
        "pessoas = {'Luiz':32, 'Patricia':40, 'Amanda':21, 'Carlos':28}\n"
      ],
      "metadata": {
        "id": "S07Ptb7DbW_N"
      },
      "execution_count": 5,
      "outputs": []
    },
    {
      "cell_type": "code",
      "source": [
        "type(pessoas)"
      ],
      "metadata": {
        "colab": {
          "base_uri": "https://localhost:8080/"
        },
        "id": "kcKlpZJWccHO",
        "outputId": "e978b70d-a068-4cef-8ea8-857044e590f7"
      },
      "execution_count": 8,
      "outputs": [
        {
          "output_type": "execute_result",
          "data": {
            "text/plain": [
              "dict"
            ]
          },
          "metadata": {},
          "execution_count": 8
        }
      ]
    },
    {
      "cell_type": "code",
      "source": [
        "pessoas['Patricia']"
      ],
      "metadata": {
        "colab": {
          "base_uri": "https://localhost:8080/"
        },
        "id": "N8-73RwpceJ_",
        "outputId": "594bbf67-bf7c-4660-831d-7a04aeb9fb3c"
      },
      "execution_count": 9,
      "outputs": [
        {
          "output_type": "execute_result",
          "data": {
            "text/plain": [
              "40"
            ]
          },
          "metadata": {},
          "execution_count": 9
        }
      ]
    },
    {
      "cell_type": "code",
      "source": [],
      "metadata": {
        "id": "agJjGTRZckQ2"
      },
      "execution_count": null,
      "outputs": []
    },
    {
      "cell_type": "markdown",
      "source": [
        "Para alterar o valor de uma chave"
      ],
      "metadata": {
        "id": "i7mYKsd7cq7I"
      }
    },
    {
      "cell_type": "code",
      "source": [
        "pessoas['Patricia'] = 41\n",
        "pessoas"
      ],
      "metadata": {
        "colab": {
          "base_uri": "https://localhost:8080/"
        },
        "id": "vq5UeQw8ctxN",
        "outputId": "4ab61e98-6d05-448c-c68d-ffe87accd4f5"
      },
      "execution_count": 10,
      "outputs": [
        {
          "output_type": "execute_result",
          "data": {
            "text/plain": [
              "{'Luiz': 32, 'Patricia': 41, 'Amanda': 21, 'Carlos': 28}"
            ]
          },
          "metadata": {},
          "execution_count": 10
        }
      ]
    },
    {
      "cell_type": "code",
      "source": [
        "pessoas.keys()"
      ],
      "metadata": {
        "colab": {
          "base_uri": "https://localhost:8080/"
        },
        "id": "WH3TFI9-c0bT",
        "outputId": "3544f2b3-09be-4f3c-b378-8e706b489022"
      },
      "execution_count": 11,
      "outputs": [
        {
          "output_type": "execute_result",
          "data": {
            "text/plain": [
              "dict_keys(['Luiz', 'Patricia', 'Amanda', 'Carlos'])"
            ]
          },
          "metadata": {},
          "execution_count": 11
        }
      ]
    },
    {
      "cell_type": "code",
      "source": [
        "pessoas.values()"
      ],
      "metadata": {
        "colab": {
          "base_uri": "https://localhost:8080/"
        },
        "id": "6JVcmY9Oc_5L",
        "outputId": "e7868000-9ac1-4d14-bcad-b3072570d97b"
      },
      "execution_count": 12,
      "outputs": [
        {
          "output_type": "execute_result",
          "data": {
            "text/plain": [
              "dict_values([32, 41, 21, 28])"
            ]
          },
          "metadata": {},
          "execution_count": 12
        }
      ]
    },
    {
      "cell_type": "code",
      "source": [
        "pessoas.items()"
      ],
      "metadata": {
        "colab": {
          "base_uri": "https://localhost:8080/"
        },
        "id": "BXtmRksxdCoO",
        "outputId": "c66379e5-363b-4318-afa7-8025133a12aa"
      },
      "execution_count": 13,
      "outputs": [
        {
          "output_type": "execute_result",
          "data": {
            "text/plain": [
              "dict_items([('Luiz', 32), ('Patricia', 41), ('Amanda', 21), ('Carlos', 28)])"
            ]
          },
          "metadata": {},
          "execution_count": 13
        }
      ]
    },
    {
      "cell_type": "markdown",
      "source": [
        "Inserindo um novo par no dicionario"
      ],
      "metadata": {
        "id": "A4ola890dtOH"
      }
    },
    {
      "cell_type": "code",
      "source": [
        "pessoas['leonardo'] = 23\n",
        "pessoas"
      ],
      "metadata": {
        "colab": {
          "base_uri": "https://localhost:8080/"
        },
        "id": "A90xaQ3ldG_e",
        "outputId": "dbecdce2-950d-4445-9ef3-88fa562294d6"
      },
      "execution_count": 14,
      "outputs": [
        {
          "output_type": "execute_result",
          "data": {
            "text/plain": [
              "{'Luiz': 32, 'Patricia': 41, 'Amanda': 21, 'Carlos': 28, 'leonardo': 23}"
            ]
          },
          "metadata": {},
          "execution_count": 14
        }
      ]
    },
    {
      "cell_type": "markdown",
      "source": [
        "COLOCANDO O DICIONARIO EM ORDEM ALFABÉTICA"
      ],
      "metadata": {
        "id": "HuJWhNKQewy3"
      }
    },
    {
      "cell_type": "code",
      "source": [
        " sorted(pessoas) #mostra o diconario em ordem alfabetico"
      ],
      "metadata": {
        "colab": {
          "base_uri": "https://localhost:8080/"
        },
        "id": "YvfF4yZadpwG",
        "outputId": "e5fb9686-6606-4da5-ad8e-a1f4a9025047"
      },
      "execution_count": 17,
      "outputs": [
        {
          "output_type": "execute_result",
          "data": {
            "text/plain": [
              "['Amanda', 'Carlos', 'Luiz', 'Patricia', 'leonardo']"
            ]
          },
          "metadata": {},
          "execution_count": 17
        }
      ]
    },
    {
      "cell_type": "code",
      "source": [
        "pessoas"
      ],
      "metadata": {
        "colab": {
          "base_uri": "https://localhost:8080/"
        },
        "id": "Msy2f1sKeqZQ",
        "outputId": "d3fcc1f0-82dd-493b-cd68-41b1e3a78e3e"
      },
      "execution_count": 18,
      "outputs": [
        {
          "output_type": "execute_result",
          "data": {
            "text/plain": [
              "{'Luiz': 32, 'Patricia': 41, 'Amanda': 21, 'Carlos': 28, 'leonardo': 23}"
            ]
          },
          "metadata": {},
          "execution_count": 18
        }
      ]
    },
    {
      "cell_type": "code",
      "source": [],
      "metadata": {
        "id": "K4fRJW-KfAqO"
      },
      "execution_count": null,
      "outputs": []
    },
    {
      "cell_type": "markdown",
      "source": [
        "IMPRIMINDO UM DICIONARIO"
      ],
      "metadata": {
        "id": "0jVMKkxffGsn"
      }
    },
    {
      "cell_type": "code",
      "source": [
        "for k,v in pessoas.items(): # k de key(chave) e v de value(valor)\n",
        "  print(f'{k}: {v}')"
      ],
      "metadata": {
        "colab": {
          "base_uri": "https://localhost:8080/"
        },
        "id": "AprODU1NfJEe",
        "outputId": "70dabb7d-ceb8-4c95-dea2-db6f59101af6"
      },
      "execution_count": 21,
      "outputs": [
        {
          "output_type": "stream",
          "name": "stdout",
          "text": [
            "Luiz: 32\n",
            "Patricia: 41\n",
            "Amanda: 21\n",
            "Carlos: 28\n",
            "leonardo: 23\n"
          ]
        }
      ]
    },
    {
      "cell_type": "markdown",
      "source": [
        "CARREGANDO UM DICIONARIO PELO TECLADO"
      ],
      "metadata": {
        "id": "v2ZTir6ggNff"
      }
    },
    {
      "cell_type": "code",
      "source": [
        "dados = {} #cria um dicionario\n",
        "dados['nome'] = input('Nome: ')\n",
        "dados['idade'] = int(input('Idade: '))\n",
        "print(dados)"
      ],
      "metadata": {
        "colab": {
          "base_uri": "https://localhost:8080/"
        },
        "id": "eCGTNmE_fUpu",
        "outputId": "4b25e2b3-9dc0-4fb1-a53c-8ffbf66b9cb0"
      },
      "execution_count": 24,
      "outputs": [
        {
          "output_type": "stream",
          "name": "stdout",
          "text": [
            "Nome: Jones\n",
            "Idade: 39\n",
            "{'nome': 'Jones', 'idade': 39}\n"
          ]
        }
      ]
    },
    {
      "cell_type": "code",
      "source": [],
      "metadata": {
        "id": "vB9Z5KyrgLzB"
      },
      "execution_count": null,
      "outputs": []
    },
    {
      "cell_type": "markdown",
      "source": [
        "CARREGANDO DICIONARIO EM UMA LISTA"
      ],
      "metadata": {
        "id": "QFyNBkVkg_8H"
      }
    },
    {
      "cell_type": "code",
      "source": [
        "estado1 = {'uf': 'São Paulo', 'sigla': 'SP'}\n",
        "estado2 = {'uf': 'Minas Gerais', 'sigla': 'MG'}\n",
        "\n",
        "brasil = [] #cria uma lista vazia\n",
        "\n",
        "brasil.append(estado1)#adiciona o dic estado1 na lista\n",
        "brasil.append(estado2)\n",
        "\n",
        "print(estado1)\n",
        "print(estado2)\n",
        "print(brasil)"
      ],
      "metadata": {
        "colab": {
          "base_uri": "https://localhost:8080/"
        },
        "id": "7r-0XxTThF4O",
        "outputId": "776ac222-d151-4022-81f2-059dbe5e6979"
      },
      "execution_count": 25,
      "outputs": [
        {
          "output_type": "stream",
          "name": "stdout",
          "text": [
            "{'uf': 'São Paulo', 'sigla': 'SP'}\n",
            "{'uf': 'Minas Gerais', 'sigla': 'MG'}\n",
            "[{'uf': 'São Paulo', 'sigla': 'SP'}, {'uf': 'Minas Gerais', 'sigla': 'MG'}]\n"
          ]
        }
      ]
    },
    {
      "cell_type": "code",
      "source": [],
      "metadata": {
        "id": "Sbvqid7miGbR"
      },
      "execution_count": null,
      "outputs": []
    },
    {
      "cell_type": "markdown",
      "source": [
        "CARREGANDO UM DICIONARIO EM UMA LISTA PELO TECLADO"
      ],
      "metadata": {
        "id": "JkTjVvMXiNkP"
      }
    },
    {
      "cell_type": "code",
      "source": [
        "estado = dict()\n",
        "brasil = list()\n",
        "\n",
        "for i in range(3):\n",
        "  estado['uf'] = input('UF: ')\n",
        "  estado['sigla'] = input('Sigla: ')\n",
        "  brasil.append(estado.copy())# faz uma cópia do dicionario a cada inserção\n",
        "\n",
        "print(brasil)"
      ],
      "metadata": {
        "colab": {
          "base_uri": "https://localhost:8080/"
        },
        "id": "nkjwrEU0iSKE",
        "outputId": "202af94b-56f7-4ad7-e38f-4738b6cc897e"
      },
      "execution_count": 27,
      "outputs": [
        {
          "output_type": "stream",
          "name": "stdout",
          "text": [
            "UF: São Paulo\n",
            "Sigla: SP\n",
            "UF: Rio de Janeiro\n",
            "Sigla: RJ\n",
            "UF: Minas Gerais\n",
            "Sigla: Mg\n",
            "[{'uf': 'São Paulo', 'sigla': 'SP'}, {'uf': 'Rio de Janeiro', 'sigla': 'RJ'}, {'uf': 'Minas Gerais', 'sigla': 'Mg'}]\n"
          ]
        }
      ]
    },
    {
      "cell_type": "code",
      "source": [],
      "metadata": {
        "id": "C44SHHgkiWgE"
      },
      "execution_count": null,
      "outputs": []
    },
    {
      "cell_type": "markdown",
      "source": [
        "USANDO GET NO DICIONARIO"
      ],
      "metadata": {
        "id": "GLP_4Kxoju1A"
      }
    },
    {
      "cell_type": "code",
      "source": [
        "pessoas"
      ],
      "metadata": {
        "colab": {
          "base_uri": "https://localhost:8080/"
        },
        "id": "P-NNPFdMjyAB",
        "outputId": "04ffb937-b5c7-4727-98f6-28268649f020"
      },
      "execution_count": 28,
      "outputs": [
        {
          "output_type": "execute_result",
          "data": {
            "text/plain": [
              "{'Luiz': 32, 'Patricia': 41, 'Amanda': 21, 'Carlos': 28, 'leonardo': 23}"
            ]
          },
          "metadata": {},
          "execution_count": 28
        }
      ]
    },
    {
      "cell_type": "code",
      "source": [
        "pessoas.get('leonardo')#retorna o valor se encontrar"
      ],
      "metadata": {
        "colab": {
          "base_uri": "https://localhost:8080/"
        },
        "id": "o3bIGSe4j0fx",
        "outputId": "0d01fd82-0cc4-494c-9e6b-c84684a9eb20"
      },
      "execution_count": 32,
      "outputs": [
        {
          "output_type": "execute_result",
          "data": {
            "text/plain": [
              "23"
            ]
          },
          "metadata": {},
          "execution_count": 32
        }
      ]
    },
    {
      "cell_type": "code",
      "source": [
        "pessoas.get('Gustavo')#se nao encontrar, não retorna"
      ],
      "metadata": {
        "id": "nXw4dpXhkAUh"
      },
      "execution_count": 30,
      "outputs": []
    },
    {
      "cell_type": "code",
      "source": [
        "if pessoas.get('Amanda'):\n",
        "  print('contato existente!')\n",
        "else:\n",
        "  pessoas['Amanda'] = 21"
      ],
      "metadata": {
        "colab": {
          "base_uri": "https://localhost:8080/"
        },
        "id": "9cTjbqqikMiB",
        "outputId": "6dc9d7ee-2aaa-4ef9-e65b-14c77ea16507"
      },
      "execution_count": 33,
      "outputs": [
        {
          "output_type": "stream",
          "name": "stdout",
          "text": [
            "contato existente!\n"
          ]
        }
      ]
    },
    {
      "cell_type": "code",
      "source": [
        "if pessoas.get('Claudio'):\n",
        "  print('contato existente!')\n",
        "else:\n",
        "  pessoas['Claudio'] = 78\n",
        "\n",
        "print(pessoas)\n"
      ],
      "metadata": {
        "colab": {
          "base_uri": "https://localhost:8080/"
        },
        "id": "k9T6sJutklrY",
        "outputId": "604e7995-d606-457e-bdf7-42613a0d393e"
      },
      "execution_count": 34,
      "outputs": [
        {
          "output_type": "stream",
          "name": "stdout",
          "text": [
            "{'Luiz': 32, 'Patricia': 41, 'Amanda': 21, 'Carlos': 28, 'leonardo': 23, 'Claudio': 78}\n"
          ]
        }
      ]
    },
    {
      "cell_type": "markdown",
      "source": [
        "APAGANDO ELEMENTOS DE UM DICIONARIO"
      ],
      "metadata": {
        "id": "jmcXcSZNlF1_"
      }
    },
    {
      "cell_type": "code",
      "source": [
        "del pessoas['Claudio'] #apaga a chave \"claudio\""
      ],
      "metadata": {
        "id": "DHXc-QD-lEHP"
      },
      "execution_count": 36,
      "outputs": []
    },
    {
      "cell_type": "code",
      "source": [
        "pessoas.popitem() #remove e reotorna o ultimo elemento"
      ],
      "metadata": {
        "colab": {
          "base_uri": "https://localhost:8080/"
        },
        "id": "xbsjuSA6ln8X",
        "outputId": "4be0cf6f-5cc3-45c9-b2b0-92e808dc5a04"
      },
      "execution_count": 37,
      "outputs": [
        {
          "output_type": "execute_result",
          "data": {
            "text/plain": [
              "('leonardo', 23)"
            ]
          },
          "metadata": {},
          "execution_count": 37
        }
      ]
    },
    {
      "cell_type": "code",
      "source": [
        "pessoas.clear()#apaga todos os dados do dicionario, retornandoum dicionario\n",
        "pessoas"
      ],
      "metadata": {
        "colab": {
          "base_uri": "https://localhost:8080/"
        },
        "id": "Rhq-QZa3lxUg",
        "outputId": "03579e35-a110-4bed-d3da-a87b362b65fc"
      },
      "execution_count": 38,
      "outputs": [
        {
          "output_type": "execute_result",
          "data": {
            "text/plain": [
              "{}"
            ]
          },
          "metadata": {},
          "execution_count": 38
        }
      ]
    },
    {
      "cell_type": "code",
      "source": [],
      "metadata": {
        "id": "knTbqxa_l_iQ"
      },
      "execution_count": null,
      "outputs": []
    },
    {
      "cell_type": "markdown",
      "source": [
        "CRIANDO DICIONARIO COM LISTA OU TUPLAS"
      ],
      "metadata": {
        "id": "JwLQnXUmmRt4"
      }
    },
    {
      "cell_type": "code",
      "source": [
        "d1 = {'Laura':['atendente',2500], 'Diogo':['Programador', 5000]}\n",
        "d2 = {'Ana':(4.5,5.5), 'Pedro': (6.8,9.0)}\n",
        "print(d1)\n",
        "print(d2)"
      ],
      "metadata": {
        "colab": {
          "base_uri": "https://localhost:8080/"
        },
        "id": "MPGn3fnimSmP",
        "outputId": "49762135-be17-457e-85fe-b5da2853349d"
      },
      "execution_count": 39,
      "outputs": [
        {
          "output_type": "stream",
          "name": "stdout",
          "text": [
            "{'Laura': ['atendente', 2500], 'Diogo': ['Programador', 5000]}\n",
            "{'Ana': (4.5, 5.5), 'Pedro': (6.8, 9.0)}\n"
          ]
        }
      ]
    },
    {
      "cell_type": "code",
      "source": [
        "d1['Laura']"
      ],
      "metadata": {
        "colab": {
          "base_uri": "https://localhost:8080/"
        },
        "id": "l1j-ICByniw4",
        "outputId": "cdfc9a4d-4d0f-43ea-fe33-5e80c26b1e7b"
      },
      "execution_count": 40,
      "outputs": [
        {
          "output_type": "execute_result",
          "data": {
            "text/plain": [
              "['atendente', 2500]"
            ]
          },
          "metadata": {},
          "execution_count": 40
        }
      ]
    },
    {
      "cell_type": "code",
      "source": [
        "d2['Ana']"
      ],
      "metadata": {
        "colab": {
          "base_uri": "https://localhost:8080/"
        },
        "id": "2gUSmFVVnn-A",
        "outputId": "4ebc6138-0886-4ad4-f92c-708a5a421418"
      },
      "execution_count": 41,
      "outputs": [
        {
          "output_type": "execute_result",
          "data": {
            "text/plain": [
              "(4.5, 5.5)"
            ]
          },
          "metadata": {},
          "execution_count": 41
        }
      ]
    },
    {
      "cell_type": "code",
      "source": [],
      "metadata": {
        "id": "KCGC-tCvnsnQ"
      },
      "execution_count": null,
      "outputs": []
    },
    {
      "cell_type": "markdown",
      "source": [
        "Exercicios\n",
        "crie um dicionario que armazene 5 alunos e para cada aluno, 3 notas. As notas devem ser armazenadas em uma lista. Em seguida imprima os alunos, suas médias e se está aprovado ou Reprovado"
      ],
      "metadata": {
        "id": "TuipEulVoujf"
      }
    },
    {
      "cell_type": "code",
      "source": [
        "alunos = {'João': [7.5, 8.0, 6.5],'Maria': [6.0, 7.0, 8.0],'Pedro': [5.5, 6.0, 7.0],'Danielly': [10, 9.0, 10],'Carlos': [4.0, 6.5, 5.0]}\n",
        "\n",
        "def calcular_media(notas):\n",
        "    return sum(notas) / len(notas)\n",
        "\n",
        "def verificar_aprovacao(media):\n",
        "    if media >= 7.0:\n",
        "        return 'Aprovado'\n",
        "    else:\n",
        "        return 'Reprovado'\n",
        "\n",
        "for aluno, notas in alunos.items():\n",
        "    media = calcular_media(notas)\n",
        "    situacao = verificar_aprovacao(media)\n",
        "    print(f'Aluno: {aluno} - Média: {media:.2f} - Situação: {situacao}')"
      ],
      "metadata": {
        "colab": {
          "base_uri": "https://localhost:8080/"
        },
        "id": "laj1-PSpqOeL",
        "outputId": "7ef6fa73-edcd-4887-c4b3-344691fafdec"
      },
      "execution_count": 44,
      "outputs": [
        {
          "output_type": "stream",
          "name": "stdout",
          "text": [
            "Aluno: João - Média: 7.33 - Situação: Aprovado\n",
            "Aluno: Maria - Média: 7.00 - Situação: Aprovado\n",
            "Aluno: Pedro - Média: 6.17 - Situação: Reprovado\n",
            "Aluno: Danielly - Média: 9.67 - Situação: Aprovado\n",
            "Aluno: Carlos - Média: 5.17 - Situação: Reprovado\n"
          ]
        }
      ]
    },
    {
      "cell_type": "code",
      "source": [],
      "metadata": {
        "id": "FXRfHN7StR7K"
      },
      "execution_count": null,
      "outputs": []
    }
  ]
}