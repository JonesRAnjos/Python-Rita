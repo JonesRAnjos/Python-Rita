{
  "nbformat": 4,
  "nbformat_minor": 0,
  "metadata": {
    "colab": {
      "provenance": [],
      "authorship_tag": "ABX9TyPGAa0oHaswrx2U8Ws3udpb",
      "include_colab_link": true
    },
    "kernelspec": {
      "name": "python3",
      "display_name": "Python 3"
    },
    "language_info": {
      "name": "python"
    }
  },
  "cells": [
    {
      "cell_type": "markdown",
      "metadata": {
        "id": "view-in-github",
        "colab_type": "text"
      },
      "source": [
        "<a href=\"https://colab.research.google.com/github/JonesRAnjos/Python-Rita/blob/main/Exercicios_2.ipynb\" target=\"_parent\"><img src=\"https://colab.research.google.com/assets/colab-badge.svg\" alt=\"Open In Colab\"/></a>"
      ]
    },
    {
      "cell_type": "code",
      "execution_count": null,
      "metadata": {
        "id": "5ucvr4Fyq4nr"
      },
      "outputs": [],
      "source": []
    },
    {
      "cell_type": "markdown",
      "source": [
        "Exercícios de Python para a disciplina de quinta-feira\n",
        "1.Implementar a saída gráfica do método e encontrar saída. Usar o print.\n",
        "\n"
      ],
      "metadata": {
        "id": "9dyOcb8qq93X"
      }
    },
    {
      "cell_type": "code",
      "source": [
        "def calcular_y(x):\n",
        "\n",
        "    y = 2 * x + 3\n",
        "    return y\n",
        "\n",
        "\n",
        "valores_x = range(-5, 6)  # Vai de -5 até 5\n",
        "\n",
        "print(\"x  |  y\")\n",
        "print(\"--------\")\n",
        "for x in valores_x:\n",
        "    y = calcular_y(x)\n",
        "    print(f\"{x:2} | {y:2}\")\n"
      ],
      "metadata": {
        "id": "Xg2BGzB2q_M6"
      },
      "execution_count": null,
      "outputs": []
    },
    {
      "cell_type": "markdown",
      "source": [
        "Criar algoritmo de Fibonacci\n"
      ],
      "metadata": {
        "id": "yzaQCKXQrMcG"
      }
    },
    {
      "cell_type": "code",
      "source": [
        "def fibonacci(n):\n",
        "    # Função para calcular o n-ésimo número de Fibonacci\n",
        "    a, b = 0, 1\n",
        "    for _ in range(n):\n",
        "        a, b = b, a + b\n",
        "    return a\n",
        "\n",
        "# Exemplo de uso: Imprimir os primeiros 10 números da sequência\n",
        "for i in range(10):\n",
        "    print(f\"F({i}) = {fibonacci(i)}\")\n"
      ],
      "metadata": {
        "colab": {
          "base_uri": "https://localhost:8080/"
        },
        "id": "s-tkfY8HrNWr",
        "outputId": "b4ee9571-d248-46b7-d01d-f11b5a497404"
      },
      "execution_count": 1,
      "outputs": [
        {
          "output_type": "stream",
          "name": "stdout",
          "text": [
            "F(0) = 0\n",
            "F(1) = 1\n",
            "F(2) = 1\n",
            "F(3) = 2\n",
            "F(4) = 3\n",
            "F(5) = 5\n",
            "F(6) = 8\n",
            "F(7) = 13\n",
            "F(8) = 21\n",
            "F(9) = 34\n"
          ]
        }
      ]
    },
    {
      "cell_type": "code",
      "source": [],
      "metadata": {
        "id": "EMCYoYDyrU-k"
      },
      "execution_count": null,
      "outputs": []
    },
    {
      "cell_type": "markdown",
      "source": [
        "Criar fatorial\n"
      ],
      "metadata": {
        "id": "mCIiAK2prZt_"
      }
    },
    {
      "cell_type": "code",
      "source": [
        "def fatorial(n):\n",
        "    resultado = 1\n",
        "    for i in range(2, n + 1):\n",
        "        resultado *= i\n",
        "    return resultado\n",
        "\n",
        "print(f\"5! = {fatorial(5)}\")\n"
      ],
      "metadata": {
        "id": "2Z1E3goAradz"
      },
      "execution_count": null,
      "outputs": []
    }
  ]
}