{
  "nbformat": 4,
  "nbformat_minor": 0,
  "metadata": {
    "colab": {
      "provenance": [],
      "authorship_tag": "ABX9TyNb4EHgztuND3xm8flBO8+V",
      "include_colab_link": true
    },
    "kernelspec": {
      "name": "python3",
      "display_name": "Python 3"
    },
    "language_info": {
      "name": "python"
    }
  },
  "cells": [
    {
      "cell_type": "markdown",
      "metadata": {
        "id": "view-in-github",
        "colab_type": "text"
      },
      "source": [
        "<a href=\"https://colab.research.google.com/github/JonesRAnjos/Python-Rita/blob/main/Exerc%C3%ADcios.ipynb\" target=\"_parent\"><img src=\"https://colab.research.google.com/assets/colab-badge.svg\" alt=\"Open In Colab\"/></a>"
      ]
    },
    {
      "cell_type": "code",
      "execution_count": null,
      "metadata": {
        "id": "REbyYmZdZO3o"
      },
      "outputs": [],
      "source": []
    },
    {
      "cell_type": "markdown",
      "source": [
        "LISTA DE EXERCÍCIOS – ESTRUTURA DE DADOS EM PYTHON"
      ],
      "metadata": {
        "id": "6-gqbGECb-T9"
      }
    },
    {
      "cell_type": "code",
      "source": [],
      "metadata": {
        "id": "pmICpEVJb-8L"
      },
      "execution_count": null,
      "outputs": []
    },
    {
      "cell_type": "markdown",
      "source": [
        "Leia o nome e 4 notas de um aluno. As notas deverão ser armazenadas em uma\n",
        "lista. No final, mostre o nome do aluno, suas notas, sua média com uma casa\n",
        "decimal e se ele está aprovado ou reprovado.\n"
      ],
      "metadata": {
        "id": "1ciZzqVpcb7C"
      }
    },
    {
      "cell_type": "code",
      "source": [
        "nome_aluno = input(\"Digite o nome do aluno: \")\n",
        "notas = []\n",
        "for i in range(4):\n",
        "    nota = float(input(f\"Digite a nota {i+1} do aluno: \"))\n",
        "    notas.append(nota)\n",
        "media = sum(notas) / len(notas)\n",
        "situacao = \"Aprovado\" if media >= 6.0 else \"Reprovado\"\n",
        "print(\"\\n--- Informações do Aluno ---\")\n",
        "print(\"Nome do Aluno:\", nome_aluno)\n",
        "print(\"Notas:\", notas)\n",
        "print(\"Média:\", round(media, 1))\n",
        "print(\"Situação:\", situacao)\n"
      ],
      "metadata": {
        "id": "YfjuqoL2dTFy"
      },
      "execution_count": null,
      "outputs": []
    },
    {
      "cell_type": "code",
      "source": [],
      "metadata": {
        "id": "9PNXS6EEdTpj"
      },
      "execution_count": null,
      "outputs": []
    },
    {
      "cell_type": "markdown",
      "source": [
        "Escreva um programa que armazene 5 temperaturas de uma semana (segunda\n",
        "a sexta), em uma lista e no final mostre a média dessas temperaturas. O\n",
        "programa deverá mostra de qual dia da semana está sendo coletada a\n",
        "temperatura, para isso, os dias da semana deverão estar armazenados em uma\n",
        "tupla e buscados dela para mostrar na tela."
      ],
      "metadata": {
        "id": "XgHp4PJxdUla"
      }
    },
    {
      "cell_type": "code",
      "source": [
        "\n",
        "dias_da_semana = (\"segunda-feira\", \"terça-feira\", \"quarta-feira\", \"quinta-feira\", \"sexta-feira\")\n",
        "temperaturas_semana = []\n",
        "for dia in dias_da_semana:\n",
        "    temperatura = float(input(f\"Digite a temperatura de {dia}: \"))\n",
        "    temperaturas_semana.append(temperatura)\n",
        "media_temperaturas = sum(temperaturas_semana) / len(temperaturas_semana)\n",
        "print(\"\\n--- Temperaturas da Semana ---\")\n",
        "for i, dia in enumerate(dias_da_semana):\n",
        "    print(f\"{dia}: {temperaturas_semana[i]}°C\")\n",
        "\n",
        "print(\"\\nMédia das temperaturas da semana:\", round(media_temperaturas, 2), \"°C\")\n"
      ],
      "metadata": {
        "colab": {
          "base_uri": "https://localhost:8080/"
        },
        "id": "vdoKKF6ldbzi",
        "outputId": "da65e68b-77a4-4fe7-c2a1-e4bbba50b840"
      },
      "execution_count": 5,
      "outputs": [
        {
          "output_type": "stream",
          "name": "stdout",
          "text": [
            "Digite a temperatura de segunda-feira: 40\n",
            "Digite a temperatura de terça-feira: 30\n",
            "Digite a temperatura de quarta-feira: 25\n",
            "Digite a temperatura de quinta-feira: 10\n",
            "Digite a temperatura de sexta-feira: 9\n",
            "\n",
            "--- Temperaturas da Semana ---\n",
            "segunda-feira: 40.0°C\n",
            "terça-feira: 30.0°C\n",
            "quarta-feira: 25.0°C\n",
            "quinta-feira: 10.0°C\n",
            "sexta-feira: 9.0°C\n",
            "\n",
            "Média das temperaturas da semana: 22.8 °C\n"
          ]
        }
      ]
    },
    {
      "cell_type": "markdown",
      "source": [
        "Armazene em uma lista 5 nomes, digitados pelo teclado. Em seguida, sorteie um\n",
        "nome da lista, mostre o nome sorteado e o número de letras que contém o\n",
        "nome."
      ],
      "metadata": {
        "id": "KsjOdpb_eXYM"
      }
    },
    {
      "cell_type": "code",
      "source": [
        "import random\n",
        "\n",
        "nomes = []\n",
        "for i in range(5):\n",
        "    nome = input(\"Digite um nome: \")\n",
        "    nomes.append(nome)\n",
        "nome_sorteado = random.choice(nomes)\n",
        "numero_letras = len(nome_sorteado)\n",
        "print(\"Nome sorteado:\", nome_sorteado)\n",
        "print(\"Número de letras:\", numero_letras)\n"
      ],
      "metadata": {
        "id": "87jY0t2HeYVD"
      },
      "execution_count": null,
      "outputs": []
    },
    {
      "cell_type": "code",
      "source": [],
      "metadata": {
        "id": "FlQi9uPZegCG"
      },
      "execution_count": null,
      "outputs": []
    },
    {
      "cell_type": "markdown",
      "source": [
        "Um professor possui uma pequena turma de 5 alunos. A esses alunos foram\n",
        "aplicadas duas provas (p1 e p2). O professor gostaria de um programa onde ele\n",
        "cadastrasse as notas das duas provas e tivesse como resultado a média\n",
        "aritmética da turma nas duas provas e ainda em qual das provas a turma teve\n",
        "melhor desempenho. Com suas habilidades de programador, consegue ajudálo?"
      ],
      "metadata": {
        "id": "JkfkkaxLe2bz"
      }
    },
    {
      "cell_type": "code",
      "source": [
        "\n",
        "notas_p1 = []\n",
        "notas_p2 = []\n",
        "for i in range(5):\n",
        "    nota_p1 = float(input(f\"Digite a nota da P1 do aluno {i+1}: \"))\n",
        "    nota_p2 = float(input(f\"Digite a nota da P2 do aluno {i+1}: \"))\n",
        "    notas_p1.append(nota_p1)\n",
        "    notas_p2.append(nota_p2)\n",
        "soma_p1 = sum(notas_p1)\n",
        "soma_p2 = sum(notas_p2)\n",
        "media_p1 = soma_p1 / 5\n",
        "media_p2 = soma_p2 / 5\n",
        "\n",
        "melhor_desempenho = \"P1\" if media_p1 > media_p2 else \"P2\" if media_p2 > media_p1 else \"ambas as provas\"\n",
        "\n",
        "print(\"\\n--- Resultados ---\")\n",
        "print(\"Média da turma na P1:\", media_p1)\n",
        "print(\"Média da turma na P2:\", media_p2)\n",
        "print(\"A turma teve melhor desempenho na:\", melhor_desempenho)\n"
      ],
      "metadata": {
        "id": "KxBgq8VcfThM"
      },
      "execution_count": null,
      "outputs": []
    },
    {
      "cell_type": "markdown",
      "source": [
        "Crie um dicionário que armazene o código, o nome e o preço de n produtos. O\n",
        "código, que será a chave do dicionário, deverá ser um número criado\n",
        "aleatoriamente contendo 3 dígitos. O campo 'valor' do dicionário deverá conter\n",
        "uma lista com o nome e o preço do produto; esses dados deverão vir de uma\n",
        "lista previamente cadastrada com os produtos e seus respectivos preços. O\n",
        "programa deverá receber a quantidade a ser comprada e mostrar o valor total\n",
        "da compra"
      ],
      "metadata": {
        "id": "23yJOUK5gpkY"
      }
    },
    {
      "cell_type": "code",
      "source": [
        "import random\n",
        "produtos_precos = {\n",
        "    \"produto1\": 10.50,\n",
        "    \"produto2\": 20.00,\n",
        "    \"produto3\": 15.75,\n",
        "    \"produto4\": 8.99,\n",
        "    \"produto5\": 12.30\n",
        "}\n",
        "produtos = {}\n",
        "for codigo in range(100, 1000):\n",
        "    codigo_str = str(codigo)\n",
        "    produto_nome, produto_preco = random.choice(list(produtos_precos.items()))\n",
        "    produtos[codigo_str] = {\"nome\": produto_nome, \"preco\": produto_preco}\n",
        "quantidade = int(input(\"Quantidade de produtos a serem comprados: \"))\n",
        "valor_total = 0\n",
        "for _ in range(quantidade):\n",
        "    codigo_produto = input(\"Digite o código do produto: \")\n",
        "    if codigo_produto in produtos:\n",
        "        valor_total += produtos[codigo_produto][\"preco\"]\n",
        "    else:\n",
        "        print(\"Produto não encontrado.\")\n",
        "print(\"Valor total da compra:\", valor_total)\n"
      ],
      "metadata": {
        "id": "EMiBayxmgqjg"
      },
      "execution_count": null,
      "outputs": []
    }
  ]
}