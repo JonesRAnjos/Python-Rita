{
  "nbformat": 4,
  "nbformat_minor": 0,
  "metadata": {
    "colab": {
      "provenance": [],
      "authorship_tag": "ABX9TyPYzhoIaW6TZ22fn5xP84qm",
      "include_colab_link": true
    },
    "kernelspec": {
      "name": "python3",
      "display_name": "Python 3"
    },
    "language_info": {
      "name": "python"
    }
  },
  "cells": [
    {
      "cell_type": "markdown",
      "metadata": {
        "id": "view-in-github",
        "colab_type": "text"
      },
      "source": [
        "<a href=\"https://colab.research.google.com/github/JonesRAnjos/Python-Rita/blob/main/ArvoreAVL.ipynb\" target=\"_parent\"><img src=\"https://colab.research.google.com/assets/colab-badge.svg\" alt=\"Open In Colab\"/></a>"
      ]
    },
    {
      "cell_type": "markdown",
      "source": [
        "\n",
        "Estrutura do Nó da Árvore\n",
        "Cada nó da árvore terá um valor (a pontuação), referências para seus filhos esquerdo e direito, e um campo para armazenar a altura do nó.\n",
        "\n",
        "---\n",
        "\n"
      ],
      "metadata": {
        "id": "TxBzdMF8eVCg"
      }
    },
    {
      "cell_type": "code",
      "execution_count": null,
      "metadata": {
        "id": "QgoriBMleRWw"
      },
      "outputs": [],
      "source": [
        "class Node:\n",
        "    def __init__(self, key):\n",
        "        self.key = key\n",
        "        self.left = None\n",
        "        self.right = None\n",
        "        self.height = 1\n"
      ]
    },
    {
      "cell_type": "markdown",
      "source": [
        "Funções Auxiliares\n",
        "Calcular a Altura de um Nó\n"
      ],
      "metadata": {
        "id": "JvkyhLcXebAK"
      }
    },
    {
      "cell_type": "code",
      "source": [
        "def height(node):\n",
        "    if not node:\n",
        "        return 0\n",
        "    return node.height\n",
        "\n"
      ],
      "metadata": {
        "id": "VhjiFSpged42"
      },
      "execution_count": null,
      "outputs": []
    },
    {
      "cell_type": "markdown",
      "source": [
        "Calcular o Fator de Balanceamento de um Nó"
      ],
      "metadata": {
        "id": "xbXY17ZJeiT1"
      }
    },
    {
      "cell_type": "code",
      "source": [
        "def get_balance(node):\n",
        "    if not node:\n",
        "        return 0\n",
        "    return height(node.left) - height(node.right)\n"
      ],
      "metadata": {
        "id": "Yk-Jqv2yejGC"
      },
      "execution_count": null,
      "outputs": []
    },
    {
      "cell_type": "markdown",
      "source": [
        "Rotações para Manter o Balanceamento da Árvore"
      ],
      "metadata": {
        "id": "RBc6UndxepEu"
      }
    },
    {
      "cell_type": "code",
      "source": [
        "def right_rotate(y):\n",
        "    x = y.left\n",
        "    T2 = x.right\n",
        "    x.right = y\n",
        "    y.left = T2\n",
        "    y.height = max(height(y.left), height(y.right)) + 1\n",
        "    x.height = max(height(x.left), height(x.right)) + 1\n",
        "    return x\n",
        "\n",
        "def left_rotate(x):\n",
        "    y = x.right\n",
        "    T2 = y.left\n",
        "    y.left = x\n",
        "    x.right = T2\n",
        "    x.height = max(height(x.left), height(x.right)) + 1\n",
        "    y.height = max(height(y.left), height(y.right)) + 1\n",
        "    return y\n",
        "\n"
      ],
      "metadata": {
        "id": "Y_GyGMAFeplD"
      },
      "execution_count": null,
      "outputs": []
    },
    {
      "cell_type": "markdown",
      "source": [
        "Função de Inserção"
      ],
      "metadata": {
        "id": "DPUowsISev31"
      }
    },
    {
      "cell_type": "code",
      "source": [
        "def insert(node, key):\n",
        "    if not node:\n",
        "        return Node(key)\n",
        "    elif key < node.key:\n",
        "        node.left = insert(node.left, key)\n",
        "    else:\n",
        "        node.right = insert(node.right, key)\n",
        "\n",
        "    node.height = max(height(node.left), height(node.right)) + 1\n",
        "    balance = get_balance(node)\n",
        "\n",
        "    if balance > 1 and key < node.left.key:\n",
        "        return right_rotate(node)\n",
        "    if balance < -1 and key > node.right.key:\n",
        "        return left_rotate(node)\n",
        "    if balance > 1 and key > node.left.key:\n",
        "        node.left = left_rotate(node.left)\n",
        "        return right_rotate(node)\n",
        "    if balance < -1 and key < node.right.key:\n",
        "        node.right = right_rotate(node.right)\n",
        "        return left_rotate(node)\n",
        "\n",
        "    return node\n"
      ],
      "metadata": {
        "id": "btgbwFEyeyo3"
      },
      "execution_count": null,
      "outputs": []
    },
    {
      "cell_type": "markdown",
      "source": [
        "Função de Exibição das Pontuações (Travessia em Ordem)"
      ],
      "metadata": {
        "id": "RC2J1tfferXQ"
      }
    },
    {
      "cell_type": "code",
      "source": [
        "def in_order_traversal(root):\n",
        "    if root:\n",
        "        in_order_traversal(root.left)\n",
        "        print(root.key, end=' ')\n",
        "        in_order_traversal(root.right)\n"
      ],
      "metadata": {
        "id": "wd6KKXL3e11V"
      },
      "execution_count": null,
      "outputs": []
    },
    {
      "cell_type": "markdown",
      "source": [
        "Exemplo de Uso"
      ],
      "metadata": {
        "id": "otMdLW81e4xE"
      }
    },
    {
      "cell_type": "code",
      "source": [
        "root = Node(1)\n",
        "root.left = Node(2)\n",
        "root.right = Node(3)\n",
        "root.left.left = Node(4)\n",
        "root.left.right = Node(5)\n",
        "\n",
        "# Travessia in-order\n",
        "print(\"Travessia In-Order:\")\n",
        "in_order_traversal(root)  # Saída: 4 2 5 1 3\n"
      ],
      "metadata": {
        "colab": {
          "base_uri": "https://localhost:8080/"
        },
        "id": "3Srhuhxce5VJ",
        "outputId": "24a7f993-2130-46b6-8998-1ccf35098f4a"
      },
      "execution_count": null,
      "outputs": [
        {
          "output_type": "stream",
          "name": "stdout",
          "text": [
            "Travessia In-Order:\n",
            "4 2 5 1 3 "
          ]
        }
      ]
    },
    {
      "cell_type": "code",
      "source": [],
      "metadata": {
        "id": "ohEgkXumgcKe"
      },
      "execution_count": null,
      "outputs": []
    },
    {
      "cell_type": "markdown",
      "source": [
        "Saída Esperada"
      ],
      "metadata": {
        "id": "7Kf8cArbe81S"
      }
    },
    {
      "cell_type": "code",
      "source": [],
      "metadata": {
        "id": "DQ6lIp7Oe9ZZ"
      },
      "execution_count": null,
      "outputs": []
    }
  ]
}