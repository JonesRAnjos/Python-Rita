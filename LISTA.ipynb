{
  "nbformat": 4,
  "nbformat_minor": 0,
  "metadata": {
    "colab": {
      "provenance": [],
      "authorship_tag": "ABX9TyO21NYrr3ROhUaYY3uRo7+P",
      "include_colab_link": true
    },
    "kernelspec": {
      "name": "python3",
      "display_name": "Python 3"
    },
    "language_info": {
      "name": "python"
    }
  },
  "cells": [
    {
      "cell_type": "markdown",
      "metadata": {
        "id": "view-in-github",
        "colab_type": "text"
      },
      "source": [
        "<a href=\"https://colab.research.google.com/github/JonesRAnjos/Python-Rita/blob/main/LISTA.ipynb\" target=\"_parent\"><img src=\"https://colab.research.google.com/assets/colab-badge.svg\" alt=\"Open In Colab\"/></a>"
      ]
    },
    {
      "cell_type": "code",
      "execution_count": null,
      "metadata": {
        "id": "Nl65sZCOSFNQ"
      },
      "outputs": [],
      "source": []
    },
    {
      "cell_type": "markdown",
      "source": [
        "EM PYTHON, AS LISTAS SÃO UM TIPO DE ESTRUTURA DE DAOS QUE PERMITE  ARMAZENAR UMA COLEÇÃO DE ITENS EM UMA UNICA VARIAVEL. AS LISTAS SÃO MUTAVEIS, O QUE SIGNIFIA QUE PODEM SER MODIFICADAAS APÓS SEREM CRIADAS."
      ],
      "metadata": {
        "id": "NA7OnFVpTbEr"
      }
    },
    {
      "cell_type": "code",
      "source": [
        "lista = [1,2,3,4,5]\n",
        "print(lista)"
      ],
      "metadata": {
        "colab": {
          "base_uri": "https://localhost:8080/"
        },
        "id": "fqoloD4mT5xa",
        "outputId": "cbb6f20a-5a20-4a68-896d-b744b19f148c"
      },
      "execution_count": null,
      "outputs": [
        {
          "output_type": "stream",
          "name": "stdout",
          "text": [
            "[1, 2, 3, 4, 5]\n"
          ]
        }
      ]
    },
    {
      "cell_type": "code",
      "source": [
        "type(lista)"
      ],
      "metadata": {
        "colab": {
          "base_uri": "https://localhost:8080/"
        },
        "id": "mrTPU1rZUQTN",
        "outputId": "0adad61f-36a5-43ef-fe81-82084b8228ea"
      },
      "execution_count": null,
      "outputs": [
        {
          "output_type": "execute_result",
          "data": {
            "text/plain": [
              "list"
            ]
          },
          "metadata": {},
          "execution_count": 4
        }
      ]
    },
    {
      "cell_type": "code",
      "source": [
        "lista[0]"
      ],
      "metadata": {
        "colab": {
          "base_uri": "https://localhost:8080/"
        },
        "id": "bVSzND-jUmwK",
        "outputId": "61ae096b-8cdf-468b-bde7-f4632a29f328"
      },
      "execution_count": null,
      "outputs": [
        {
          "output_type": "execute_result",
          "data": {
            "text/plain": [
              "1"
            ]
          },
          "metadata": {},
          "execution_count": 5
        }
      ]
    },
    {
      "cell_type": "code",
      "source": [
        "lista[3]"
      ],
      "metadata": {
        "colab": {
          "base_uri": "https://localhost:8080/"
        },
        "id": "za4mVikTUvdC",
        "outputId": "fc168d3d-b3ed-4250-97be-2dde6914a60c"
      },
      "execution_count": null,
      "outputs": [
        {
          "output_type": "execute_result",
          "data": {
            "text/plain": [
              "4"
            ]
          },
          "metadata": {},
          "execution_count": 6
        }
      ]
    },
    {
      "cell_type": "code",
      "source": [
        "lista[5]#ERRO(ESTOUROU O Tamannho da lista)"
      ],
      "metadata": {
        "colab": {
          "base_uri": "https://localhost:8080/",
          "height": 141
        },
        "id": "Bjo4VxgtUxEq",
        "outputId": "abad2f4e-7fcb-4397-cc1a-c838bc4d1e3b"
      },
      "execution_count": null,
      "outputs": [
        {
          "output_type": "error",
          "ename": "IndexError",
          "evalue": "list index out of range",
          "traceback": [
            "\u001b[0;31m---------------------------------------------------------------------------\u001b[0m",
            "\u001b[0;31mIndexError\u001b[0m                                Traceback (most recent call last)",
            "\u001b[0;32m<ipython-input-7-cf0236d70f2a>\u001b[0m in \u001b[0;36m<cell line: 1>\u001b[0;34m()\u001b[0m\n\u001b[0;32m----> 1\u001b[0;31m \u001b[0mlista\u001b[0m\u001b[0;34m[\u001b[0m\u001b[0;36m5\u001b[0m\u001b[0;34m]\u001b[0m\u001b[0;34m\u001b[0m\u001b[0;34m\u001b[0m\u001b[0m\n\u001b[0m",
            "\u001b[0;31mIndexError\u001b[0m: list index out of range"
          ]
        }
      ]
    },
    {
      "cell_type": "code",
      "source": [],
      "metadata": {
        "id": "nsmLJNdeU1E6"
      },
      "execution_count": null,
      "outputs": []
    },
    {
      "cell_type": "markdown",
      "source": [
        "MÉTODO APPEND() - insere um elemento sempre no final da lista\n",
        "\n",
        "```\n",
        "# Isto está formatado como código\n",
        "```\n",
        "\n"
      ],
      "metadata": {
        "id": "mAmM5XvpVCDK"
      }
    },
    {
      "cell_type": "code",
      "source": [
        "lista.append(6)#adiciona 0 6 no final da lista\n",
        "lista"
      ],
      "metadata": {
        "colab": {
          "base_uri": "https://localhost:8080/"
        },
        "id": "1KF6trnaVK4a",
        "outputId": "13305d75-4a64-4b48-bc7b-8345e8978c28"
      },
      "execution_count": null,
      "outputs": [
        {
          "output_type": "execute_result",
          "data": {
            "text/plain": [
              "[1, 2, 3, 4, 5, 6]"
            ]
          },
          "metadata": {},
          "execution_count": 8
        }
      ]
    },
    {
      "cell_type": "code",
      "source": [
        "lista.append(50)#adiciona 0 6 no final da lista\n",
        "lista"
      ],
      "metadata": {
        "colab": {
          "base_uri": "https://localhost:8080/"
        },
        "id": "2fSqchWuVXv6",
        "outputId": "203f2bb7-0b50-44e4-ee3e-1fd8149e74cd"
      },
      "execution_count": null,
      "outputs": [
        {
          "output_type": "execute_result",
          "data": {
            "text/plain": [
              "[1, 2, 3, 4, 5, 6, 50]"
            ]
          },
          "metadata": {},
          "execution_count": 9
        }
      ]
    },
    {
      "cell_type": "code",
      "source": [],
      "metadata": {
        "id": "J5KANgB2Vn-K"
      },
      "execution_count": null,
      "outputs": []
    },
    {
      "cell_type": "markdown",
      "source": [
        "M´TODO INSERT() - insere um elemento na posição desejada"
      ],
      "metadata": {
        "id": "7OK1WKzMWEcb"
      }
    },
    {
      "cell_type": "code",
      "source": [
        "lista.insert(0,25)# insere o 25 na posição 0\n",
        "lista"
      ],
      "metadata": {
        "colab": {
          "base_uri": "https://localhost:8080/"
        },
        "id": "yH0X7-TGWMny",
        "outputId": "86668ba2-0039-4385-de63-61b15ad8dd33"
      },
      "execution_count": null,
      "outputs": [
        {
          "output_type": "execute_result",
          "data": {
            "text/plain": [
              "[25, 1, 2, 3, 4, 5, 6, 50]"
            ]
          },
          "metadata": {},
          "execution_count": 10
        }
      ]
    },
    {
      "cell_type": "code",
      "source": [],
      "metadata": {
        "id": "dUhAuAZMWSri"
      },
      "execution_count": null,
      "outputs": []
    },
    {
      "cell_type": "markdown",
      "source": [
        "MÉTODO DEL() - deleta um item da lista baseado na posição indicada"
      ],
      "metadata": {
        "id": "nQnUTf1uWfYL"
      }
    },
    {
      "cell_type": "code",
      "source": [
        "lista"
      ],
      "metadata": {
        "colab": {
          "base_uri": "https://localhost:8080/"
        },
        "id": "fp-coqhUWnnK",
        "outputId": "9bf5f51b-6cc1-44f6-a788-978de5fdd449"
      },
      "execution_count": null,
      "outputs": [
        {
          "output_type": "execute_result",
          "data": {
            "text/plain": [
              "[25, 1, 2, 3, 4, 5, 6, 50]"
            ]
          },
          "metadata": {},
          "execution_count": 11
        }
      ]
    },
    {
      "cell_type": "code",
      "source": [
        "del lista[5]\n",
        "lista"
      ],
      "metadata": {
        "colab": {
          "base_uri": "https://localhost:8080/"
        },
        "id": "AvSo-Y25WowK",
        "outputId": "8168a797-0b15-4942-831b-04f0b5d6cfb6"
      },
      "execution_count": null,
      "outputs": [
        {
          "output_type": "execute_result",
          "data": {
            "text/plain": [
              "[25, 1, 2, 3, 4, 6, 50]"
            ]
          },
          "metadata": {},
          "execution_count": 12
        }
      ]
    },
    {
      "cell_type": "code",
      "source": [
        "del lista #apaga a lista inteira"
      ],
      "metadata": {
        "id": "EUfxgUUrWu8Z"
      },
      "execution_count": null,
      "outputs": []
    },
    {
      "cell_type": "code",
      "source": [],
      "metadata": {
        "id": "YskIO1inXKma"
      },
      "execution_count": null,
      "outputs": []
    },
    {
      "cell_type": "markdown",
      "source": [
        "MéTODO REMOVE()- remove um item baseado no valor e não na posição"
      ],
      "metadata": {
        "id": "2D7UqoZNXiTi"
      }
    },
    {
      "cell_type": "code",
      "source": [],
      "metadata": {
        "id": "pu_ZWJUzXrQy"
      },
      "execution_count": null,
      "outputs": []
    },
    {
      "cell_type": "code",
      "source": [
        "numeros.remove(66)#remove o 66 da lista\n",
        "numeros"
      ],
      "metadata": {
        "colab": {
          "base_uri": "https://localhost:8080/"
        },
        "id": "E2yKkvmeX1Gy",
        "outputId": "24ff28d6-e5f7-4f37-eea5-daef1bd6a7bb"
      },
      "execution_count": null,
      "outputs": [
        {
          "output_type": "execute_result",
          "data": {
            "text/plain": [
              "[1, 2, 55, 77, 99]"
            ]
          },
          "metadata": {},
          "execution_count": 16
        }
      ]
    },
    {
      "cell_type": "code",
      "source": [
        "numeros"
      ],
      "metadata": {
        "colab": {
          "base_uri": "https://localhost:8080/"
        },
        "id": "fdCXWD6FYC5o",
        "outputId": "9ab2c1b7-3331-4f13-c73d-7d5a3d35c986"
      },
      "execution_count": null,
      "outputs": [
        {
          "output_type": "execute_result",
          "data": {
            "text/plain": [
              "[1, 2, 55, 77, 99]"
            ]
          },
          "metadata": {},
          "execution_count": 17
        }
      ]
    },
    {
      "cell_type": "code",
      "source": [],
      "metadata": {
        "id": "QZixhlpSYVEi"
      },
      "execution_count": null,
      "outputs": []
    },
    {
      "cell_type": "markdown",
      "source": [
        "MÉTODO CLEAR() - apaga o conteudo da lista inteira retornando uma lista vazia"
      ],
      "metadata": {
        "id": "PnZaWICiYXly"
      }
    },
    {
      "cell_type": "code",
      "source": [
        "numeros.clear()#apaga elementos da lista, não a estrutura\n",
        "numeros"
      ],
      "metadata": {
        "colab": {
          "base_uri": "https://localhost:8080/"
        },
        "id": "0bq89FnNYYIq",
        "outputId": "27890e58-b3b9-47e2-a5f9-5956806260b6"
      },
      "execution_count": null,
      "outputs": [
        {
          "output_type": "execute_result",
          "data": {
            "text/plain": [
              "[]"
            ]
          },
          "metadata": {},
          "execution_count": 19
        }
      ]
    },
    {
      "cell_type": "code",
      "source": [],
      "metadata": {
        "id": "j7xiRljZYhaC"
      },
      "execution_count": null,
      "outputs": []
    },
    {
      "cell_type": "markdown",
      "source": [
        "MÉTODO POP(0- elimina e mostyra o ultimo elemnto"
      ],
      "metadata": {
        "id": "Pcbnf4CSYtva"
      }
    },
    {
      "cell_type": "code",
      "source": [
        "numeros =[1,2,55,66,77,99]\n",
        "numeros"
      ],
      "metadata": {
        "colab": {
          "base_uri": "https://localhost:8080/"
        },
        "id": "ulo7ug4UYztS",
        "outputId": "76816047-bab6-49fd-cdba-779456b7e86d"
      },
      "execution_count": null,
      "outputs": [
        {
          "output_type": "execute_result",
          "data": {
            "text/plain": [
              "[1, 2, 55, 66, 77, 99]"
            ]
          },
          "metadata": {},
          "execution_count": 20
        }
      ]
    },
    {
      "cell_type": "code",
      "source": [
        "numeros.pop()#Sem parametro remove e mostra o ultimo numero inserido"
      ],
      "metadata": {
        "colab": {
          "base_uri": "https://localhost:8080/"
        },
        "id": "Ldub2LYWY3vK",
        "outputId": "fd09fe91-b91a-4c29-ee93-0b5264de558e"
      },
      "execution_count": null,
      "outputs": [
        {
          "output_type": "execute_result",
          "data": {
            "text/plain": [
              "99"
            ]
          },
          "metadata": {},
          "execution_count": 21
        }
      ]
    },
    {
      "cell_type": "code",
      "source": [
        "numeros.pop(2)#com parametro remove o elemento na posição desejada"
      ],
      "metadata": {
        "colab": {
          "base_uri": "https://localhost:8080/"
        },
        "id": "wK4GmTRzZRWi",
        "outputId": "13a8fa0a-513c-4ea1-db2d-9cf14e039072"
      },
      "execution_count": null,
      "outputs": [
        {
          "output_type": "execute_result",
          "data": {
            "text/plain": [
              "55"
            ]
          },
          "metadata": {},
          "execution_count": 22
        }
      ]
    },
    {
      "cell_type": "code",
      "source": [],
      "metadata": {
        "id": "q9CsjOOYZemS"
      },
      "execution_count": null,
      "outputs": []
    },
    {
      "cell_type": "markdown",
      "source": [
        "CRIANDO LISTA DE VARIOS TIPOS"
      ],
      "metadata": {
        "id": "OewPbXDvZoiN"
      }
    },
    {
      "cell_type": "code",
      "source": [
        "lista1 = [1,2,3]\n",
        "lista2 = ['Maria','Luiz','Joana']\n",
        "lista3 = ['Lucas,27,8.5']\n",
        "print(lista1,lista2,lista3)"
      ],
      "metadata": {
        "colab": {
          "base_uri": "https://localhost:8080/"
        },
        "id": "V9h3sh98ZrbJ",
        "outputId": "de73c227-02ea-40d4-970b-c686a60f709b"
      },
      "execution_count": null,
      "outputs": [
        {
          "output_type": "stream",
          "name": "stdout",
          "text": [
            "[1, 2, 3] ['Maria', 'Luiz', 'Joana'] ['Lucas,27,8.5']\n"
          ]
        }
      ]
    },
    {
      "cell_type": "code",
      "source": [],
      "metadata": {
        "id": "Xj8gP6TnaDsi"
      },
      "execution_count": null,
      "outputs": []
    },
    {
      "cell_type": "markdown",
      "source": [
        "PARA CRIAR UMA LISTA VAZIA"
      ],
      "metadata": {
        "id": "7pvDYNSqaOFa"
      }
    },
    {
      "cell_type": "code",
      "source": [
        "lista =[]# cria uma lista vazia\n",
        "lista = lista()#cria uma lista vazia pelo método list()\n",
        "\n"
      ],
      "metadata": {
        "colab": {
          "base_uri": "https://localhost:8080/",
          "height": 176
        },
        "id": "ZKaUAIneaQPC",
        "outputId": "a7683f82-22a2-4d6b-a583-6b62ec0106a4"
      },
      "execution_count": null,
      "outputs": [
        {
          "output_type": "error",
          "ename": "TypeError",
          "evalue": "'list' object is not callable",
          "traceback": [
            "\u001b[0;31m---------------------------------------------------------------------------\u001b[0m",
            "\u001b[0;31mTypeError\u001b[0m                                 Traceback (most recent call last)",
            "\u001b[0;32m<ipython-input-24-27154560393f>\u001b[0m in \u001b[0;36m<cell line: 2>\u001b[0;34m()\u001b[0m\n\u001b[1;32m      1\u001b[0m \u001b[0mlista\u001b[0m \u001b[0;34m=\u001b[0m\u001b[0;34m[\u001b[0m\u001b[0;34m]\u001b[0m\u001b[0;31m# cria uma lista vazia\u001b[0m\u001b[0;34m\u001b[0m\u001b[0;34m\u001b[0m\u001b[0m\n\u001b[0;32m----> 2\u001b[0;31m \u001b[0mlista\u001b[0m \u001b[0;34m=\u001b[0m \u001b[0mlista\u001b[0m\u001b[0;34m(\u001b[0m\u001b[0;34m)\u001b[0m\u001b[0;31m#cria uma lista vazia pelo método list()\u001b[0m\u001b[0;34m\u001b[0m\u001b[0;34m\u001b[0m\u001b[0m\n\u001b[0m\u001b[1;32m      3\u001b[0m \u001b[0;34m\u001b[0m\u001b[0m\n",
            "\u001b[0;31mTypeError\u001b[0m: 'list' object is not callable"
          ]
        }
      ]
    },
    {
      "cell_type": "code",
      "source": [
        "lista.append(23)\n",
        "lista.append(77)\n",
        "lista.append(55)\n",
        "lista.append(11)\n",
        "lista.append(67)\n",
        "\n",
        "\n"
      ],
      "metadata": {
        "colab": {
          "base_uri": "https://localhost:8080/"
        },
        "id": "jc_Qd5ysamFx",
        "outputId": "c9790c6e-1cb4-4e85-87cf-6d6ca2b768d2"
      },
      "execution_count": null,
      "outputs": [
        {
          "output_type": "execute_result",
          "data": {
            "text/plain": [
              "[23,\n",
              " 77,\n",
              " 7755,\n",
              " 775511,\n",
              " 77551177,\n",
              " 23,\n",
              " 77,\n",
              " 7755,\n",
              " 775511,\n",
              " 77551177,\n",
              " 23,\n",
              " 77,\n",
              " 7755,\n",
              " 775511,\n",
              " 77551177,\n",
              " 23,\n",
              " 77,\n",
              " 55,\n",
              " 11,\n",
              " 67]"
            ]
          },
          "metadata": {},
          "execution_count": 28
        }
      ]
    },
    {
      "cell_type": "code",
      "source": [
        "lista"
      ],
      "metadata": {
        "colab": {
          "base_uri": "https://localhost:8080/"
        },
        "id": "b9rMHUKQa1lC",
        "outputId": "357254be-6038-4a43-97e8-9eec60ff25c3"
      },
      "execution_count": null,
      "outputs": [
        {
          "output_type": "execute_result",
          "data": {
            "text/plain": [
              "[23,\n",
              " 77,\n",
              " 7755,\n",
              " 775511,\n",
              " 77551177,\n",
              " 23,\n",
              " 77,\n",
              " 7755,\n",
              " 775511,\n",
              " 77551177,\n",
              " 23,\n",
              " 77,\n",
              " 7755,\n",
              " 775511,\n",
              " 77551177,\n",
              " 23,\n",
              " 77,\n",
              " 55,\n",
              " 11,\n",
              " 67]"
            ]
          },
          "metadata": {},
          "execution_count": 29
        }
      ]
    },
    {
      "cell_type": "code",
      "source": [],
      "metadata": {
        "id": "iI0rbfFgbIw5"
      },
      "execution_count": null,
      "outputs": []
    },
    {
      "cell_type": "markdown",
      "source": [
        "PREENCHENDO UMA LISTA COM RANGE"
      ],
      "metadata": {
        "id": "ZimPghh4bPCa"
      }
    },
    {
      "cell_type": "code",
      "source": [
        "valores = list(range(1,10))\n",
        "valores"
      ],
      "metadata": {
        "colab": {
          "base_uri": "https://localhost:8080/"
        },
        "id": "6Tx9zTf1bSGB",
        "outputId": "24235902-77d2-412e-a900-1afbc5b6c1fe"
      },
      "execution_count": null,
      "outputs": [
        {
          "output_type": "execute_result",
          "data": {
            "text/plain": [
              "[1, 2, 3, 4, 5, 6, 7, 8, 9]"
            ]
          },
          "metadata": {},
          "execution_count": 30
        }
      ]
    },
    {
      "cell_type": "markdown",
      "source": [
        "FATIAMENTO DE LISTAS"
      ],
      "metadata": {
        "id": "E-BbuafZbiCj"
      }
    },
    {
      "cell_type": "code",
      "source": [
        "valores[-1]"
      ],
      "metadata": {
        "colab": {
          "base_uri": "https://localhost:8080/"
        },
        "id": "4UArK5BpbYJK",
        "outputId": "0a469523-3684-41e8-f68b-c123662c2144"
      },
      "execution_count": null,
      "outputs": [
        {
          "output_type": "execute_result",
          "data": {
            "text/plain": [
              "9"
            ]
          },
          "metadata": {},
          "execution_count": 32
        }
      ]
    },
    {
      "cell_type": "code",
      "source": [
        "valores[-2]"
      ],
      "metadata": {
        "colab": {
          "base_uri": "https://localhost:8080/"
        },
        "id": "zUhPgkzGb2hp",
        "outputId": "f10f2783-16de-45e3-f139-bef37c1c4e70"
      },
      "execution_count": null,
      "outputs": [
        {
          "output_type": "execute_result",
          "data": {
            "text/plain": [
              "8"
            ]
          },
          "metadata": {},
          "execution_count": 33
        }
      ]
    },
    {
      "cell_type": "code",
      "source": [
        "valores[:]"
      ],
      "metadata": {
        "colab": {
          "base_uri": "https://localhost:8080/"
        },
        "id": "cM0SvAq_b68R",
        "outputId": "36544068-8543-4437-d7a0-84ad262e3754"
      },
      "execution_count": null,
      "outputs": [
        {
          "output_type": "execute_result",
          "data": {
            "text/plain": [
              "[1, 2, 3, 4, 5, 6, 7, 8, 9]"
            ]
          },
          "metadata": {},
          "execution_count": 34
        }
      ]
    },
    {
      "cell_type": "code",
      "source": [
        "valores[:3]"
      ],
      "metadata": {
        "colab": {
          "base_uri": "https://localhost:8080/"
        },
        "id": "sfNil1s_b9zR",
        "outputId": "eb2b6aef-2239-459c-87da-e3097118e2f9"
      },
      "execution_count": null,
      "outputs": [
        {
          "output_type": "execute_result",
          "data": {
            "text/plain": [
              "[1, 2, 3]"
            ]
          },
          "metadata": {},
          "execution_count": 35
        }
      ]
    },
    {
      "cell_type": "code",
      "source": [
        "valores[3:]"
      ],
      "metadata": {
        "colab": {
          "base_uri": "https://localhost:8080/"
        },
        "id": "IEteaGptb_9B",
        "outputId": "5db74289-1694-4d22-f75d-c41014ca0bf2"
      },
      "execution_count": null,
      "outputs": [
        {
          "output_type": "execute_result",
          "data": {
            "text/plain": [
              "[4, 5, 6, 7, 8, 9]"
            ]
          },
          "metadata": {},
          "execution_count": 36
        }
      ]
    },
    {
      "cell_type": "code",
      "source": [
        "valores[:8]"
      ],
      "metadata": {
        "colab": {
          "base_uri": "https://localhost:8080/"
        },
        "id": "FEfOrwe1cHaR",
        "outputId": "dce10894-c2f8-478a-e4ff-0eee9c8af28c"
      },
      "execution_count": null,
      "outputs": [
        {
          "output_type": "execute_result",
          "data": {
            "text/plain": [
              "[1, 2, 3, 4, 5, 6, 7, 8]"
            ]
          },
          "metadata": {},
          "execution_count": 37
        }
      ]
    },
    {
      "cell_type": "code",
      "source": [
        "valores[:5]"
      ],
      "metadata": {
        "colab": {
          "base_uri": "https://localhost:8080/"
        },
        "id": "TP6kfkPScOtZ",
        "outputId": "bf2c8aea-ae88-4a3e-f484-4a5eb1b00f99"
      },
      "execution_count": null,
      "outputs": [
        {
          "output_type": "execute_result",
          "data": {
            "text/plain": [
              "[1, 2, 3, 4, 5]"
            ]
          },
          "metadata": {},
          "execution_count": 38
        }
      ]
    },
    {
      "cell_type": "code",
      "source": [],
      "metadata": {
        "id": "LnY6OTOycRRZ"
      },
      "execution_count": null,
      "outputs": []
    },
    {
      "cell_type": "markdown",
      "source": [
        "ORDENANDO LISTAS"
      ],
      "metadata": {
        "id": "a7PAWGJAcbuJ"
      }
    },
    {
      "cell_type": "code",
      "source": [
        "lista = [23,10,58,87]"
      ],
      "metadata": {
        "id": "kxX9yXu8cfMp"
      },
      "execution_count": null,
      "outputs": []
    },
    {
      "cell_type": "code",
      "source": [
        "lista.sort()# coloca a lista em oredem crescente\n",
        "lista"
      ],
      "metadata": {
        "colab": {
          "base_uri": "https://localhost:8080/"
        },
        "id": "8rcaXibCcpRK",
        "outputId": "b099c927-1c1c-4ef4-bb63-153957386689"
      },
      "execution_count": null,
      "outputs": [
        {
          "output_type": "execute_result",
          "data": {
            "text/plain": [
              "[10, 23, 58, 87]"
            ]
          },
          "metadata": {},
          "execution_count": 43
        }
      ]
    },
    {
      "cell_type": "code",
      "source": [
        "nomes = ['Mauricio','Luana','Amanda','Manoel']"
      ],
      "metadata": {
        "id": "19faoKS8cuUh"
      },
      "execution_count": null,
      "outputs": []
    },
    {
      "cell_type": "code",
      "source": [
        "nomes"
      ],
      "metadata": {
        "colab": {
          "base_uri": "https://localhost:8080/"
        },
        "id": "_LpuHbYXdJC2",
        "outputId": "99d24010-2ca7-477a-bd94-15f04cb4c9a2"
      },
      "execution_count": null,
      "outputs": [
        {
          "output_type": "execute_result",
          "data": {
            "text/plain": [
              "['Mauricio', 'Luana', 'Amanda', 'Manoel']"
            ]
          },
          "metadata": {},
          "execution_count": 45
        }
      ]
    },
    {
      "cell_type": "code",
      "source": [
        "nomes.sort()\n",
        "nomes"
      ],
      "metadata": {
        "colab": {
          "base_uri": "https://localhost:8080/"
        },
        "id": "ERifNtaidKiO",
        "outputId": "8cfb20a9-6853-4c5f-b647-2ae8da896456"
      },
      "execution_count": null,
      "outputs": [
        {
          "output_type": "execute_result",
          "data": {
            "text/plain": [
              "['Amanda', 'Luana', 'Manoel', 'Mauricio']"
            ]
          },
          "metadata": {},
          "execution_count": 46
        }
      ]
    },
    {
      "cell_type": "code",
      "source": [
        "nomes.sort(reverse=True)#coloca a lista em ordem inversa"
      ],
      "metadata": {
        "id": "JKi-cDLEdPa-"
      },
      "execution_count": null,
      "outputs": []
    },
    {
      "cell_type": "code",
      "source": [
        "nomes"
      ],
      "metadata": {
        "colab": {
          "base_uri": "https://localhost:8080/"
        },
        "id": "7F5h447xdvkh",
        "outputId": "37056b04-e854-46f3-9eec-b3c1a7324665"
      },
      "execution_count": null,
      "outputs": [
        {
          "output_type": "execute_result",
          "data": {
            "text/plain": [
              "['Mauricio', 'Manoel', 'Luana', 'Amanda']"
            ]
          },
          "metadata": {},
          "execution_count": 48
        }
      ]
    },
    {
      "cell_type": "code",
      "source": [
        "lista.sort(reverse=True)#coloca a lista em ordem inversa\n",
        "lista"
      ],
      "metadata": {
        "colab": {
          "base_uri": "https://localhost:8080/"
        },
        "id": "6O0ZtnOXdwTi",
        "outputId": "f677d0b7-c2f0-4bfb-a41c-6924f23a6218"
      },
      "execution_count": null,
      "outputs": [
        {
          "output_type": "execute_result",
          "data": {
            "text/plain": [
              "[87, 58, 23, 10]"
            ]
          },
          "metadata": {},
          "execution_count": 50
        }
      ]
    },
    {
      "cell_type": "markdown",
      "source": [
        "ACRESCENTANDO MAIS DE UM ELEMENTO  Á LISTA"
      ],
      "metadata": {
        "id": "rtHE9OWLeJVS"
      }
    },
    {
      "cell_type": "code",
      "source": [
        "l1 = [1,2,3]\n",
        "l2 = [4,5,6]\n",
        "l1.extend(l2)\n",
        "l1\n"
      ],
      "metadata": {
        "colab": {
          "base_uri": "https://localhost:8080/"
        },
        "id": "CKr53UOpd4_Z",
        "outputId": "2b8258d8-dc72-4dac-cc3e-16b3139586b1"
      },
      "execution_count": null,
      "outputs": [
        {
          "output_type": "execute_result",
          "data": {
            "text/plain": [
              "[1, 2, 3, 4, 5, 6]"
            ]
          },
          "metadata": {},
          "execution_count": 54
        }
      ]
    },
    {
      "cell_type": "code",
      "source": [],
      "metadata": {
        "id": "mtagIfiMeeSJ"
      },
      "execution_count": null,
      "outputs": []
    },
    {
      "cell_type": "markdown",
      "source": [
        "OUTROS MÉTODOS"
      ],
      "metadata": {
        "id": "khHG8E53e5J0"
      }
    },
    {
      "cell_type": "code",
      "source": [
        "valores = [50,12,128,4,17]\n",
        "max(valores)"
      ],
      "metadata": {
        "colab": {
          "base_uri": "https://localhost:8080/"
        },
        "id": "W-z-g3BQe6-B",
        "outputId": "2c5e55dc-e722-4561-c84a-7cba8ebb6f5d"
      },
      "execution_count": null,
      "outputs": [
        {
          "output_type": "execute_result",
          "data": {
            "text/plain": [
              "128"
            ]
          },
          "metadata": {},
          "execution_count": 55
        }
      ]
    },
    {
      "cell_type": "code",
      "source": [
        "min(valores)"
      ],
      "metadata": {
        "colab": {
          "base_uri": "https://localhost:8080/"
        },
        "id": "GCtoXGzhfDqp",
        "outputId": "1eb331ba-24f7-4ee5-e205-7fa94a763eac"
      },
      "execution_count": null,
      "outputs": [
        {
          "output_type": "execute_result",
          "data": {
            "text/plain": [
              "4"
            ]
          },
          "metadata": {},
          "execution_count": 56
        }
      ]
    },
    {
      "cell_type": "code",
      "source": [
        "len(valores)\n"
      ],
      "metadata": {
        "colab": {
          "base_uri": "https://localhost:8080/"
        },
        "id": "g9P9Jko0fGIB",
        "outputId": "6e4871cc-c093-4b09-b920-cf3ef3db09ab"
      },
      "execution_count": null,
      "outputs": [
        {
          "output_type": "execute_result",
          "data": {
            "text/plain": [
              "5"
            ]
          },
          "metadata": {},
          "execution_count": 57
        }
      ]
    },
    {
      "cell_type": "code",
      "source": [
        "sum(valores)# soma todos os valores da lista"
      ],
      "metadata": {
        "colab": {
          "base_uri": "https://localhost:8080/"
        },
        "id": "ePorg4kLfOf5",
        "outputId": "c6a89f5c-a29e-4786-8e9e-02ee8617e36a"
      },
      "execution_count": null,
      "outputs": [
        {
          "output_type": "execute_result",
          "data": {
            "text/plain": [
              "211"
            ]
          },
          "metadata": {},
          "execution_count": 58
        }
      ]
    },
    {
      "cell_type": "code",
      "source": [
        "valores.count(128)#conta os elementos da alista"
      ],
      "metadata": {
        "colab": {
          "base_uri": "https://localhost:8080/"
        },
        "id": "8D771CIyfRdh",
        "outputId": "a55dcb91-d3d6-4183-db8f-1d3dec3f7216"
      },
      "execution_count": null,
      "outputs": [
        {
          "output_type": "execute_result",
          "data": {
            "text/plain": [
              "1"
            ]
          },
          "metadata": {},
          "execution_count": 59
        }
      ]
    },
    {
      "cell_type": "code",
      "source": [],
      "metadata": {
        "id": "YjNiP_BRfeZh"
      },
      "execution_count": null,
      "outputs": []
    },
    {
      "cell_type": "markdown",
      "source": [
        "descobrindo indice de um elemento"
      ],
      "metadata": {
        "id": "tm2f3mrJfsgh"
      }
    },
    {
      "cell_type": "code",
      "source": [
        "valores.index(128)#retorna o indice do elemento fornecido"
      ],
      "metadata": {
        "colab": {
          "base_uri": "https://localhost:8080/"
        },
        "id": "Q61a3HjcgEVZ",
        "outputId": "03001270-0cc8-434e-88cc-109ca4a35949"
      },
      "execution_count": null,
      "outputs": [
        {
          "output_type": "execute_result",
          "data": {
            "text/plain": [
              "2"
            ]
          },
          "metadata": {},
          "execution_count": 60
        }
      ]
    },
    {
      "cell_type": "code",
      "source": [
        "nomes = ['Cassia','Alexandre','Miguel','Luana']"
      ],
      "metadata": {
        "id": "Li4q4LZugMOB"
      },
      "execution_count": null,
      "outputs": []
    },
    {
      "cell_type": "code",
      "source": [
        "nomes.index(\"Luana\")"
      ],
      "metadata": {
        "colab": {
          "base_uri": "https://localhost:8080/"
        },
        "id": "Cva4-UsDgWp5",
        "outputId": "8a45ec30-9ef3-4671-b4ca-5449cb55fa68"
      },
      "execution_count": null,
      "outputs": [
        {
          "output_type": "execute_result",
          "data": {
            "text/plain": [
              "3"
            ]
          },
          "metadata": {},
          "execution_count": 62
        }
      ]
    },
    {
      "cell_type": "code",
      "source": [
        "if 'Alexandre' in nomes:\n",
        "  print('O nome não esta na lista')\n",
        "else:\n",
        "  print('O nome não esta na lista')\n",
        "\n"
      ],
      "metadata": {
        "colab": {
          "base_uri": "https://localhost:8080/"
        },
        "id": "P620ezlSgbJR",
        "outputId": "d4501178-0ff7-4ece-9e46-d54d1bed33cc"
      },
      "execution_count": null,
      "outputs": [
        {
          "output_type": "stream",
          "name": "stdout",
          "text": [
            "O nome não esta na lista\n"
          ]
        }
      ]
    },
    {
      "cell_type": "code",
      "source": [
        "for i in enumerate(nomes): #imprime o elemento e o indice\n",
        " print(1)"
      ],
      "metadata": {
        "colab": {
          "base_uri": "https://localhost:8080/"
        },
        "id": "GSgqhr4IhE2A",
        "outputId": "8ee6bfce-7860-447f-b960-b5c5c55ef3d0"
      },
      "execution_count": null,
      "outputs": [
        {
          "output_type": "stream",
          "name": "stdout",
          "text": [
            "1\n",
            "1\n",
            "1\n",
            "1\n"
          ]
        }
      ]
    },
    {
      "cell_type": "code",
      "source": [],
      "metadata": {
        "id": "vhC3lB0Ohpl5"
      },
      "execution_count": null,
      "outputs": []
    },
    {
      "cell_type": "markdown",
      "source": [
        "INSERINDO ELEMENTOS PELO TECLADO\n",
        "\n"
      ],
      "metadata": {
        "id": "Yigv0HHrhtMa"
      }
    },
    {
      "cell_type": "code",
      "source": [
        "numeros =[]\n",
        "for i in range (5):\n",
        "  numeros.append(int(input('Digite um valor: ')))\n",
        "\n"
      ],
      "metadata": {
        "colab": {
          "base_uri": "https://localhost:8080/"
        },
        "id": "0nT_eeBXhutp",
        "outputId": "7ac79d1a-5f7d-43cc-c8a8-0cf6c0918b45"
      },
      "execution_count": null,
      "outputs": [
        {
          "output_type": "stream",
          "name": "stdout",
          "text": [
            "Digite um valor: 7\n",
            "Digite um valor: 14\n",
            "Digite um valor: 21\n",
            "Digite um valor: 28\n",
            "Digite um valor: 67\n",
            "[7, 14, 21, 28, 67]\n"
          ]
        }
      ]
    },
    {
      "cell_type": "code",
      "source": [],
      "metadata": {
        "id": "jZcW1Qb3iGAO"
      },
      "execution_count": null,
      "outputs": []
    },
    {
      "cell_type": "markdown",
      "source": [
        "FAÇA UM PROGRAMA QUE LEIA DO TECLADO 4 NOTAS DE UM ALUNO E ARMAZENE EM UMA LISTA"
      ],
      "metadata": {
        "id": "Ff-GOSDaih61"
      }
    },
    {
      "cell_type": "code",
      "source": [
        "for i in range (4):\n",
        "  numeros.append(int(input('Digite um nota: ')))\n",
        "print (numeros)\n"
      ],
      "metadata": {
        "colab": {
          "base_uri": "https://localhost:8080/"
        },
        "id": "GjFRQapZitWw",
        "outputId": "caed15e4-d089-472c-f0e3-fcce5d72d161"
      },
      "execution_count": null,
      "outputs": [
        {
          "output_type": "stream",
          "name": "stdout",
          "text": [
            "Digite um nota: 8\n",
            "Digite um nota: 9\n",
            "Digite um nota: 4\n",
            "Digite um nota: 3\n",
            "[7, 14, 21, 28, 67, 9, 4, 3, 1, 5, 3, 1, 4, 8, 8, 8, 9, 4, 3]\n"
          ]
        }
      ]
    },
    {
      "cell_type": "code",
      "source": [
        "888"
      ],
      "metadata": {
        "colab": {
          "base_uri": "https://localhost:8080/"
        },
        "id": "lkDJxqjTjHaZ",
        "outputId": "2719dc4f-3b8f-4d3c-804f-4654f3d9e936"
      },
      "execution_count": null,
      "outputs": [
        {
          "output_type": "execute_result",
          "data": {
            "text/plain": [
              "888"
            ]
          },
          "metadata": {},
          "execution_count": 71
        }
      ]
    },
    {
      "cell_type": "code",
      "source": [
        "nomes = ['São Paulo','Alagoas','Rio de janeiro','MT']"
      ],
      "metadata": {
        "id": "dXkmNUisjnan"
      },
      "execution_count": null,
      "outputs": []
    },
    {
      "cell_type": "code",
      "source": [
        "import random"
      ],
      "metadata": {
        "id": "uQMvED6TkIAw"
      },
      "execution_count": null,
      "outputs": []
    },
    {
      "cell_type": "code",
      "source": [
        "estados =[]\n",
        "for in range(5):\n",
        "  estados=imput(f'Digite o i')\n"
      ],
      "metadata": {
        "colab": {
          "base_uri": "https://localhost:8080/",
          "height": 106
        },
        "id": "1ivimIrPo87Q",
        "outputId": "7c8ab789-c498-4860-df02-56902699f654"
      },
      "execution_count": null,
      "outputs": [
        {
          "output_type": "error",
          "ename": "SyntaxError",
          "evalue": "invalid syntax (<ipython-input-84-4c18c407ff62>, line 2)",
          "traceback": [
            "\u001b[0;36m  File \u001b[0;32m\"<ipython-input-84-4c18c407ff62>\"\u001b[0;36m, line \u001b[0;32m2\u001b[0m\n\u001b[0;31m    for in range(5)\u001b[0m\n\u001b[0m        ^\u001b[0m\n\u001b[0;31mSyntaxError\u001b[0m\u001b[0;31m:\u001b[0m invalid syntax\n"
          ]
        }
      ]
    },
    {
      "cell_type": "code",
      "source": [],
      "metadata": {
        "id": "EZFmPWAdpF0H"
      },
      "execution_count": null,
      "outputs": []
    }
  ]
}