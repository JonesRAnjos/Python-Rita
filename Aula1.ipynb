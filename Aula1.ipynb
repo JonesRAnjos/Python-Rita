{
  "nbformat": 4,
  "nbformat_minor": 0,
  "metadata": {
    "colab": {
      "provenance": [],
      "authorship_tag": "ABX9TyM4k7NIXUt0T3RoXhV+WVyZ",
      "include_colab_link": true
    },
    "kernelspec": {
      "name": "python3",
      "display_name": "Python 3"
    },
    "language_info": {
      "name": "python"
    }
  },
  "cells": [
    {
      "cell_type": "markdown",
      "metadata": {
        "id": "view-in-github",
        "colab_type": "text"
      },
      "source": [
        "<a href=\"https://colab.research.google.com/github/JonesRAnjos/Python-Rita/blob/main/Aula1.ipynb\" target=\"_parent\"><img src=\"https://colab.research.google.com/assets/colab-badge.svg\" alt=\"Open In Colab\"/></a>"
      ]
    },
    {
      "cell_type": "code",
      "execution_count": null,
      "metadata": {
        "colab": {
          "base_uri": "https://localhost:8080/"
        },
        "id": "t942RiWCPHdf",
        "outputId": "c555cb80-031d-4e6a-ecca-c68a54232e97"
      },
      "outputs": [
        {
          "output_type": "stream",
          "name": "stdout",
          "text": [
            "Olá mundo\n"
          ]
        }
      ],
      "source": [
        "print (\"Olá mundo\")"
      ]
    },
    {
      "cell_type": "markdown",
      "source": [
        "COMANDO DE SAIDA DE DADOS\n"
      ],
      "metadata": {
        "id": "ni4ySkulQjjH"
      }
    },
    {
      "cell_type": "code",
      "source": [
        "print (5/2)#retorna o total da divisão"
      ],
      "metadata": {
        "colab": {
          "base_uri": "https://localhost:8080/"
        },
        "id": "kw9EKYeVQlKv",
        "outputId": "98e73bbe-1f85-4fa3-d543-74a0e5742bee"
      },
      "execution_count": null,
      "outputs": [
        {
          "output_type": "stream",
          "name": "stdout",
          "text": [
            "2.5\n"
          ]
        }
      ]
    },
    {
      "cell_type": "markdown",
      "source": [
        "TRABALHANDO COM VARIAVEIS"
      ],
      "metadata": {
        "id": "akLFQ1t-Q6L9"
      }
    },
    {
      "cell_type": "code",
      "source": [
        "nome ='Mariana'\n",
        "idade = 19\n",
        "nota = 6.5"
      ],
      "metadata": {
        "id": "p1WsCODYQ8uP"
      },
      "execution_count": null,
      "outputs": []
    },
    {
      "cell_type": "code",
      "source": [
        "type (nome)#retorna o tipo da variavel"
      ],
      "metadata": {
        "colab": {
          "base_uri": "https://localhost:8080/"
        },
        "id": "E4Pt4lziRUNS",
        "outputId": "5b3f25e7-e0bf-48e7-ea54-ab66b5d01d41"
      },
      "execution_count": null,
      "outputs": [
        {
          "output_type": "execute_result",
          "data": {
            "text/plain": [
              "str"
            ]
          },
          "metadata": {},
          "execution_count": 4
        }
      ]
    },
    {
      "cell_type": "code",
      "source": [
        "type(idade)"
      ],
      "metadata": {
        "colab": {
          "base_uri": "https://localhost:8080/"
        },
        "id": "N1uSWJqURcpG",
        "outputId": "a280a9ca-7e50-40b8-a027-2648075fd0f1"
      },
      "execution_count": null,
      "outputs": [
        {
          "output_type": "execute_result",
          "data": {
            "text/plain": [
              "int"
            ]
          },
          "metadata": {},
          "execution_count": 7
        }
      ]
    },
    {
      "cell_type": "code",
      "source": [
        "type(nota)"
      ],
      "metadata": {
        "colab": {
          "base_uri": "https://localhost:8080/"
        },
        "id": "LjrzSO1YRgY9",
        "outputId": "92191f98-9234-4246-9b79-4963cc924db2"
      },
      "execution_count": null,
      "outputs": [
        {
          "output_type": "execute_result",
          "data": {
            "text/plain": [
              "float"
            ]
          },
          "metadata": {},
          "execution_count": 8
        }
      ]
    },
    {
      "cell_type": "code",
      "source": [
        "print ('Meu nome é', nome, 'e tenho', idade, 'anos')"
      ],
      "metadata": {
        "colab": {
          "base_uri": "https://localhost:8080/"
        },
        "id": "oHAvdAxfRjbV",
        "outputId": "5441100e-631a-42ff-e230-25e514fb1f48"
      },
      "execution_count": null,
      "outputs": [
        {
          "output_type": "stream",
          "name": "stdout",
          "text": [
            "Meu nome é Mariana e tenho 19 anos\n"
          ]
        }
      ]
    },
    {
      "cell_type": "code",
      "source": [
        "print(f'meu nome é {nome} e tenho {idade} anos')"
      ],
      "metadata": {
        "colab": {
          "base_uri": "https://localhost:8080/"
        },
        "id": "2873FDVaSEia",
        "outputId": "d22d0466-13b4-4b5a-d79e-ea1b6dbbfc31"
      },
      "execution_count": null,
      "outputs": [
        {
          "output_type": "stream",
          "name": "stdout",
          "text": [
            "meu nome é Mariana e tenho 19 anos\n"
          ]
        }
      ]
    },
    {
      "cell_type": "code",
      "source": [],
      "metadata": {
        "id": "XJje05DWSa_m"
      },
      "execution_count": null,
      "outputs": []
    },
    {
      "cell_type": "markdown",
      "source": [
        "COMANDO DE ENTRADA DE DADOS - INPUT"
      ],
      "metadata": {
        "id": "mURtTr_eSlNu"
      }
    },
    {
      "cell_type": "markdown",
      "source": [],
      "metadata": {
        "id": "NpZXlUI_SlFz"
      }
    },
    {
      "cell_type": "code",
      "source": [
        "nome = input('Nome: ')\n",
        "idade = input('Idade: ')\n",
        "print(f'Meu nome é {nome} e tenho {idade} anos')"
      ],
      "metadata": {
        "colab": {
          "base_uri": "https://localhost:8080/"
        },
        "id": "nRGsUx3TSqE3",
        "outputId": "9ca7ea0e-2ed6-4bfd-be0c-0b739c83202a"
      },
      "execution_count": null,
      "outputs": [
        {
          "output_type": "stream",
          "name": "stdout",
          "text": [
            "Nome: Jones\n",
            "Idade: 29\n",
            "Meu nome é Jones e tenho 29 anos\n"
          ]
        }
      ]
    },
    {
      "cell_type": "code",
      "source": [
        "nome = input('Nome:')\n",
        "idade = int(input('Idade: '))#CASTING\n",
        "print (idade*2)"
      ],
      "metadata": {
        "colab": {
          "base_uri": "https://localhost:8080/"
        },
        "id": "enhOrJtqS-4O",
        "outputId": "9d8017ae-2cf2-4ed8-dad9-fb50d3932008"
      },
      "execution_count": null,
      "outputs": [
        {
          "output_type": "stream",
          "name": "stdout",
          "text": [
            "Nome:jones\n",
            "Idade: 25\n",
            "50\n"
          ]
        }
      ]
    },
    {
      "cell_type": "code",
      "source": [
        "nome = input ('Nome')\n",
        "materia = input('matéria: ')\n",
        "n1 = float(input('Nota 1: '))\n",
        "n2 = float(input('Nota 2: '))\n",
        "n3 = float(input('Nota 3: '))\n",
        "media = (n1+n2+n3)/3\n",
        "print (f'O aluno {nome} obteve a média {media:.1f} na matéria {materia}')"
      ],
      "metadata": {
        "colab": {
          "base_uri": "https://localhost:8080/"
        },
        "id": "bDHreMEGTrLZ",
        "outputId": "3b3e0da3-419c-4e5c-f543-730fb7c1675e"
      },
      "execution_count": null,
      "outputs": [
        {
          "output_type": "stream",
          "name": "stdout",
          "text": [
            "NomeJones\n",
            "matéria: Portugues\n",
            "Nota 1: 9\n",
            "Nota 2: 8\n",
            "Nota 3: 6\n",
            "O aluno Jones obteve a média 7.7 na matéria Portugues\n"
          ]
        }
      ]
    },
    {
      "cell_type": "code",
      "source": [
        "nome = input ('Nome: ')\n",
        "materia = input('matéria: ')\n",
        "n1 = float(input('Nota 1: '))\n",
        "n2 = float(input('Nota 2: '))\n",
        "n3 = float(input('Nota 3: '))\n",
        "\n",
        "print (f'O aluno {nome} obteve a média {(n1+n2+n3)/3:.1f} na matéria {materia}')"
      ],
      "metadata": {
        "colab": {
          "base_uri": "https://localhost:8080/"
        },
        "id": "qlXqlcnoVeoQ",
        "outputId": "5df4a059-3ed8-44bb-f0e5-cda960bb6d1d"
      },
      "execution_count": null,
      "outputs": [
        {
          "output_type": "stream",
          "name": "stdout",
          "text": [
            "Nome: Jones\n",
            "matéria: Portugues\n",
            "Nota 1: 9\n",
            "Nota 2: 8\n",
            "Nota 3: 6\n",
            "O aluno Jones obteve a média 7.7 na matéria Portugues\n"
          ]
        }
      ]
    },
    {
      "cell_type": "code",
      "source": [],
      "metadata": {
        "id": "xVnY-UFGXIWI"
      },
      "execution_count": null,
      "outputs": []
    },
    {
      "cell_type": "markdown",
      "source": [
        "ESTRUTURA DE DECISÃO - IF"
      ],
      "metadata": {
        "id": "ZM_XKsYrXmYJ"
      }
    },
    {
      "cell_type": "code",
      "source": [
        "a =10\n",
        "if a > 5:\n",
        "  print('Chocolate')\n",
        "else:\n",
        "  print('Gelatina')\n",
        "\n"
      ],
      "metadata": {
        "colab": {
          "base_uri": "https://localhost:8080/"
        },
        "id": "X2uIjX-3Xp9u",
        "outputId": "cc88a12a-3e08-416a-d327-51d9784fbe1f"
      },
      "execution_count": null,
      "outputs": [
        {
          "output_type": "stream",
          "name": "stdout",
          "text": [
            "Chocolate\n"
          ]
        }
      ]
    },
    {
      "cell_type": "code",
      "source": [],
      "metadata": {
        "id": "mOLobcdNYiAF"
      },
      "execution_count": null,
      "outputs": []
    },
    {
      "cell_type": "markdown",
      "source": [
        "IF´S ENCADEADOS -  ELIF"
      ],
      "metadata": {
        "id": "KPkI1MlfYtXw"
      }
    },
    {
      "cell_type": "code",
      "source": [
        "media = float(input('Média: '))\n",
        "\n",
        "if media == 7:\n",
        "  print('Rendimento aceitável')\n",
        "elif media == 8:\n",
        "  print('Bom rendimento')\n",
        "elif media == 9:\n",
        "  print('Otimo rendimento')\n",
        "elif media == 10:\n",
        "  print('Excelente rendimento')\n",
        "else:\n",
        "  print('Precisa estudar mais!!!')\n",
        "\n"
      ],
      "metadata": {
        "colab": {
          "base_uri": "https://localhost:8080/"
        },
        "id": "Ib8A18SvYxjs",
        "outputId": "3a11a191-313f-4ff5-a870-c8289013988b"
      },
      "execution_count": null,
      "outputs": [
        {
          "output_type": "stream",
          "name": "stdout",
          "text": [
            "Média: 3\n",
            "Precisa estudar mais!!!\n"
          ]
        }
      ]
    },
    {
      "cell_type": "code",
      "source": [],
      "metadata": {
        "id": "NOK9wS1yZjag"
      },
      "execution_count": null,
      "outputs": []
    },
    {
      "cell_type": "markdown",
      "source": [
        "operadores logicos"
      ],
      "metadata": {
        "id": "CRoCSsjjaVoT"
      }
    },
    {
      "cell_type": "code",
      "source": [
        "media = float (input('Média: '))\n",
        "freq = int(input('Frquencia: '))\n",
        "\n",
        "if media >= 6 and freq >= 75: # AS DUAS CONDIÇÕES\n",
        "  print ('APROVADO!!')\n",
        "else:\n",
        "  print ('REPROVADO!!')"
      ],
      "metadata": {
        "colab": {
          "base_uri": "https://localhost:8080/"
        },
        "id": "qFAIconnaSu8",
        "outputId": "f81a95d0-a653-47aa-e7f1-308aa013e7d6"
      },
      "execution_count": null,
      "outputs": [
        {
          "output_type": "stream",
          "name": "stdout",
          "text": [
            "Média: 8\n",
            "Frquencia: 60\n",
            "REPROVADO!!\n"
          ]
        }
      ]
    },
    {
      "cell_type": "code",
      "source": [
        "media = float (input('Média: '))\n",
        "freq = int(input('Frquencia: '))\n",
        "\n",
        "if media >= 6 or freq >= 75: # uma condição\n",
        "  print ('APROVADO!!')\n",
        "else:\n",
        "  print ('REPROVADO!!')\n"
      ],
      "metadata": {
        "colab": {
          "base_uri": "https://localhost:8080/"
        },
        "id": "W4rHUTcGaX5D",
        "outputId": "e8abd13d-2e3f-4d86-8208-3f857e48f229"
      },
      "execution_count": null,
      "outputs": [
        {
          "output_type": "stream",
          "name": "stdout",
          "text": [
            "Média: 8\n",
            "Frquencia: 60\n",
            "APROVADO!!\n"
          ]
        }
      ]
    },
    {
      "cell_type": "code",
      "source": [],
      "metadata": {
        "id": "VSk7ZN71bYT2"
      },
      "execution_count": null,
      "outputs": []
    },
    {
      "cell_type": "markdown",
      "source": [
        "LAÇO DE REPETIÇÃO FOR"
      ],
      "metadata": {
        "id": "f9qLhZV8bbzy"
      }
    },
    {
      "cell_type": "code",
      "source": [
        "for i in range(5):\n",
        "  print('Melancia')"
      ],
      "metadata": {
        "colab": {
          "base_uri": "https://localhost:8080/"
        },
        "id": "jv-7mP2MbeiC",
        "outputId": "15f05e90-9e08-447d-a1a5-7dcbfc32fb56"
      },
      "execution_count": null,
      "outputs": [
        {
          "output_type": "stream",
          "name": "stdout",
          "text": [
            "Melancia\n",
            "Melancia\n",
            "Melancia\n",
            "Melancia\n",
            "Melancia\n"
          ]
        }
      ]
    },
    {
      "cell_type": "code",
      "source": [
        "for i in range(5):\n",
        "  print('Melancia')\n",
        "print('Morango')"
      ],
      "metadata": {
        "colab": {
          "base_uri": "https://localhost:8080/"
        },
        "id": "XIfOiE8vbyx9",
        "outputId": "d45b1a44-2d0b-46b5-b2c5-b918995f2d34"
      },
      "execution_count": null,
      "outputs": [
        {
          "output_type": "stream",
          "name": "stdout",
          "text": [
            "Melancia\n",
            "Morango\n",
            "Melancia\n",
            "Morango\n",
            "Melancia\n",
            "Morango\n",
            "Melancia\n",
            "Morango\n",
            "Melancia\n",
            "Morango\n"
          ]
        }
      ]
    },
    {
      "cell_type": "code",
      "source": [
        "a = 5\n",
        "for i in range(a):\n",
        "  print ('Goaiba')"
      ],
      "metadata": {
        "colab": {
          "base_uri": "https://localhost:8080/"
        },
        "id": "FDtqECUdcjK-",
        "outputId": "677a648d-31f8-472a-e15c-7f538550319e"
      },
      "execution_count": null,
      "outputs": [
        {
          "output_type": "stream",
          "name": "stdout",
          "text": [
            "Goaiba\n",
            "Goaiba\n",
            "Goaiba\n",
            "Goaiba\n",
            "Goaiba\n"
          ]
        }
      ]
    },
    {
      "cell_type": "code",
      "source": [
        "texto = 'computador'\n",
        "\n",
        "for i in texto:\n",
        "  print('aula')\n"
      ],
      "metadata": {
        "colab": {
          "base_uri": "https://localhost:8080/"
        },
        "id": "XIdpxaq9c4XU",
        "outputId": "08bd3625-ca8d-4a7f-a061-6677096da205"
      },
      "execution_count": null,
      "outputs": [
        {
          "output_type": "stream",
          "name": "stdout",
          "text": [
            "aula\n",
            "aula\n",
            "aula\n",
            "aula\n",
            "aula\n",
            "aula\n",
            "aula\n",
            "aula\n",
            "aula\n",
            "aula\n"
          ]
        }
      ]
    },
    {
      "cell_type": "code",
      "source": [
        "LAÇO DE REPETIÇÃO - WHILE"
      ],
      "metadata": {
        "id": "hpv8R7b5ddNa"
      },
      "execution_count": null,
      "outputs": []
    },
    {
      "cell_type": "code",
      "source": [
        "cont = 0\n",
        "while cont < 5:\n",
        "  print('aula')\n",
        "  cont+=1\n",
        "print('computador')"
      ],
      "metadata": {
        "colab": {
          "base_uri": "https://localhost:8080/"
        },
        "id": "0kHLtdlUd2Gi",
        "outputId": "6a4f2844-cc37-4aac-f3e9-d3596bf922bd"
      },
      "execution_count": null,
      "outputs": [
        {
          "output_type": "stream",
          "name": "stdout",
          "text": [
            "aula\n",
            "aula\n",
            "aula\n",
            "aula\n",
            "aula\n",
            "computador\n"
          ]
        }
      ]
    },
    {
      "cell_type": "code",
      "source": [
        "cont = 0\n",
        "num = int (input('Digite um numero '))\n",
        "\n",
        "while cont < num:\n",
        "\n",
        "  result = cont//2\n",
        "  if result == 0:\n",
        "    print (f'Impar!{cont}')\n",
        "  else:\n",
        "    print (f'Par {cont}')\n",
        "  cont+=1\n"
      ],
      "metadata": {
        "colab": {
          "base_uri": "https://localhost:8080/"
        },
        "id": "owdlYY9ze00u",
        "outputId": "6f71bb51-bab3-4969-b721-4a66d60eec9d"
      },
      "execution_count": null,
      "outputs": [
        {
          "output_type": "stream",
          "name": "stdout",
          "text": [
            "Digite um numero 20\n",
            "Impar!0\n",
            "Impar!1\n",
            "Par 2\n",
            "Par 3\n",
            "Par 4\n",
            "Par 5\n",
            "Par 6\n",
            "Par 7\n",
            "Par 8\n",
            "Par 9\n",
            "Par 10\n",
            "Par 11\n",
            "Par 12\n",
            "Par 13\n",
            "Par 14\n",
            "Par 15\n",
            "Par 16\n",
            "Par 17\n",
            "Par 18\n",
            "Par 19\n"
          ]
        }
      ]
    },
    {
      "cell_type": "code",
      "source": [
        "cont = 0\n",
        "while cont < 20:\n",
        "  if cont %2 == 0:\n",
        "    print(f'O numero {cont}e par')\n",
        "  cont+=1"
      ],
      "metadata": {
        "colab": {
          "base_uri": "https://localhost:8080/"
        },
        "id": "Kh_jSPejhZHR",
        "outputId": "d1fff66f-740a-4e04-baa7-9d0f814f948a"
      },
      "execution_count": null,
      "outputs": [
        {
          "output_type": "stream",
          "name": "stdout",
          "text": [
            "O numero 0e par\n",
            "O numero 2e par\n",
            "O numero 4e par\n",
            "O numero 6e par\n",
            "O numero 8e par\n",
            "O numero 10e par\n",
            "O numero 12e par\n",
            "O numero 14e par\n",
            "O numero 16e par\n",
            "O numero 18e par\n"
          ]
        }
      ]
    },
    {
      "cell_type": "code",
      "source": [
        "num = int (input('Numero:'))\n",
        "cont = 0\n",
        "while cont <10:\n",
        "  print(f'{num}x{cont} = {num*cont}')\n",
        "  cont+=1"
      ],
      "metadata": {
        "colab": {
          "base_uri": "https://localhost:8080/"
        },
        "id": "kbGNZY7yiJ8R",
        "outputId": "43458e74-9ef8-4a8a-e751-0440a9555d32"
      },
      "execution_count": null,
      "outputs": [
        {
          "output_type": "stream",
          "name": "stdout",
          "text": [
            "Numero:5\n",
            "5x0 = 0\n",
            "5x1 = 5\n",
            "5x2 = 10\n",
            "5x3 = 15\n",
            "5x4 = 20\n",
            "5x5 = 25\n",
            "5x6 = 30\n",
            "5x7 = 35\n",
            "5x8 = 40\n",
            "5x9 = 45\n"
          ]
        }
      ]
    },
    {
      "cell_type": "code",
      "source": [],
      "metadata": {
        "id": "dRVl6iVgjmW7"
      },
      "execution_count": null,
      "outputs": []
    }
  ]
}